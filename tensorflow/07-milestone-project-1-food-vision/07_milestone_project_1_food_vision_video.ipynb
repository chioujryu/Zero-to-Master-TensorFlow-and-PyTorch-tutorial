{
  "cells": [
    {
      "attachments": {},
      "cell_type": "markdown",
      "metadata": {
        "colab_type": "text",
        "id": "view-in-github"
      },
      "source": [
        "<a href=\"https://colab.research.google.com/github/mrdbourke/tensorflow-deep-learning/blob/main/video_notebooks/07_milestone_project_1_food_vision_video.ipynb\" target=\"_parent\"><img src=\"https://colab.research.google.com/assets/colab-badge.svg\" alt=\"Open In Colab\"/></a>"
      ]
    },
    {
      "attachments": {},
      "cell_type": "markdown",
      "metadata": {},
      "source": [
        "# 1. <a id='toc1_'></a>[Milestone Project 1: Food Vision Big](#toc0_)\n",
        "\n",
        "See the annotated version (plenty of text and explanations for each part) of this notebook on GitHub: https://github.com/mrdbourke/tensorflow-deep-learning/blob/main/07_food_vision_milestone_project_1.ipynb\n",
        "\n",
        "And see the full course materials (including exercises and extra-curriculum) on GitHub: https://github.com/mrdbourke/tensorflow-deep-learning/"
      ]
    },
    {
      "attachments": {},
      "cell_type": "markdown",
      "metadata": {},
      "source": [
        "**Table of contents**<a id='toc0_'></a>    \n",
        "- 1. [Milestone Project 1: Food Vision Big](#toc1_)    \n",
        "  - 1.1. [Check GPU](#toc1_1_)    \n",
        "  - 1.2. [Get helper functions](#toc1_2_)    \n",
        "  - 1.3. [Use TensorFlow Datasets to Download Data](#toc1_3_)    \n",
        "  - 1.4. [Exploring the Food101 data from TensorFlow Datasets](#toc1_4_)    \n",
        "    - 1.4.1. [Plot an image from TensorFlow Datasets](#toc1_4_1_)    \n",
        "  - 1.5. [Create preprocessing functions for our data](#toc1_5_)    \n",
        "  - 1.6. [Batch & prepare datasets](#toc1_6_)    \n",
        "  - 1.7. [Create modelling callbacks](#toc1_7_)    \n",
        "  - 1.8. [Setup mixed precision training](#toc1_8_)    \n",
        "  - 1.9. [Build feature extraction model](#toc1_9_)    \n",
        "  - 1.10. [Checking layer dtype policies (are we using mixed precision?)](#toc1_10_)    \n",
        "  - 1.11. [Fit the feature extraction model](#toc1_11_)    \n",
        "  - 1.12. [Off to you...](#toc1_12_)    \n",
        "- 2. [Load and evaluate checkpoint weights](#toc2_)    \n",
        "  - 2.1. [Save the whole model to file](#toc2_1_)    \n",
        "  - 2.2. [TODO: Preparing our model's layers for fine-tuning](#toc2_2_)    \n",
        "  - 2.3. [TODO: View training results on TensorBoard](#toc2_3_)    \n",
        "  - 2.4. [TODO: Evaluate your trained model](#toc2_4_)    \n",
        "  - 2.5. [🛠 Exercises](#toc2_5_)    \n",
        "  - 2.6. [📖 Extra-curriculum](#toc2_6_)    \n",
        "\n",
        "<!-- vscode-jupyter-toc-config\n",
        "\tnumbering=true\n",
        "\tanchor=true\n",
        "\tflat=false\n",
        "\tminLevel=1\n",
        "\tmaxLevel=6\n",
        "\t/vscode-jupyter-toc-config -->\n",
        "<!-- THIS CELL WILL BE REPLACED ON TOC UPDATE. DO NOT WRITE YOUR TEXT IN THIS CELL -->"
      ]
    },
    {
      "attachments": {},
      "cell_type": "markdown",
      "metadata": {},
      "source": [
        "## 1.1. <a id='toc1_1_'></a>[Check GPU](#toc0_)\n",
        "\n",
        "Google Colab offers free GPUs (thank you Google), however, not all of them are compatiable with mixed precision training.\n",
        "\n",
        "Google Colab offers:\n",
        "* K80 (not compatible)\n",
        "* P100 (not compatible) \n",
        "* Tesla T4 (compatible)\n",
        "\n",
        "Knowing this, in order to use mixed precision training we need access to a Tesla T4 (from within Google Colab) or if we're using our own hardware, our GPU needs a score of 7.0+ (see here: https://developer.nvidia.com/cuda-gpus).\n",
        "\n",
        "📖 **Resource:** You can read more about the benefits of mixed precision training in the TensorFlow Mixed Precision documentation: https://www.tensorflow.org/guide/mixed_precision \n"
      ]
    },
    {
      "cell_type": "code",
      "execution_count": 505,
      "metadata": {},
      "outputs": [
        {
          "name": "stdout",
          "output_type": "stream",
          "text": [
            "Notebook last run (end-to-end): 2023-06-16 14:40:32.778535\n"
          ]
        }
      ],
      "source": [
        "# Add timestamp\n",
        "import datetime\n",
        "print(f\"Notebook last run (end-to-end): {datetime.datetime.now()}\")"
      ]
    },
    {
      "cell_type": "code",
      "execution_count": 506,
      "metadata": {
        "colab": {
          "base_uri": "https://localhost:8080/"
        },
        "id": "W6mnf_0-8vp_",
        "outputId": "9c76c014-b87e-4534-8416-4548056f299d"
      },
      "outputs": [
        {
          "name": "stdout",
          "output_type": "stream",
          "text": [
            "/bin/bash: /home/cosmo/anaconda3/envs/TensorFlow_2.8.3__Python_3.9/lib/libtinfo.so.6: no version information available (required by /bin/bash)\n",
            "GPU 0: NVIDIA RTX 6000 Ada Generation (UUID: GPU-05232e34-60fb-266d-7837-9f94f83f5f32)\n",
            "GPU 1: NVIDIA RTX A6000 (UUID: GPU-58afc507-4ca9-37c9-8df3-7349a4291eea)\n"
          ]
        }
      ],
      "source": [
        "# If the following line doesn't output \"Tesla T4\", you can try getting access to\n",
        "# another GPU by going to Runtime -> Factory Reset Runtime -> \"Yes\" and then\n",
        "# re-running this cell.\n",
        "!nvidia-smi -L"
      ]
    },
    {
      "attachments": {},
      "cell_type": "markdown",
      "metadata": {},
      "source": [
        "```\n",
        "/bin/bash: /home/cosmo/anaconda3/envs/TensorFlow_2.8.3__Python_3.9/lib/libtinfo.so.6: no version information available (required by /bin/bash)\n",
        "GPU 0: NVIDIA RTX 6000 Ada Generation (UUID: GPU-05232e34-60fb-266d-7837-9f94f83f5f32)\n",
        "GPU 1: NVIDIA RTX A6000 (UUID: GPU-58afc507-4ca9-37c9-8df3-7349a4291eea)\n",
        "```"
      ]
    },
    {
      "cell_type": "code",
      "execution_count": 507,
      "metadata": {},
      "outputs": [
        {
          "name": "stdout",
          "output_type": "stream",
          "text": [
            "posix = Linux, nt = windows, java = java\n",
            "your os name is posix\n",
            "your os is  Linux5.15.0-73-generic\n",
            "python version is 3.9.16\n",
            "TensorFlow version is 2.8.3\n",
            "Are we using a GPU? True\n"
          ]
        }
      ],
      "source": [
        "# Check your software and os version\n",
        "import os\n",
        "print(\"posix = Linux, nt = windows, java = java\")\n",
        "print(\"your os name is\",os.name)\n",
        "\n",
        "import platform\n",
        "print(\"your os is \",platform.system()+platform.release())\n",
        "\n",
        "from platform import python_version\n",
        "print(\"python version is\",python_version())\n",
        "\n",
        "# tensorflow\n",
        "import tensorflow as tf\n",
        "print(\"TensorFlow version is\",tf.__version__)\n",
        "\n",
        "print(\"Are we using a GPU?\",len(tf.config.experimental.list_physical_devices('GPU'))>0)\n",
        "\n",
        "# Pytorch\n",
        "#import torch\n",
        "#print(\"Pytorch version is\",torch.__version__)\n",
        "\n",
        "#print(\"Are we using a GPU?\",torch.cuda.is_available())"
      ]
    },
    {
      "attachments": {},
      "cell_type": "markdown",
      "metadata": {},
      "source": [
        "```\n",
        "posix = Linux, nt = windows, java = java\n",
        "your os name is posix\n",
        "your os is  Linux5.15.0-73-generic\n",
        "python version is 3.9.16\n",
        "TensorFlow version is 2.8.3\n",
        "Are we using a GPU? True\n",
        "```"
      ]
    },
    {
      "attachments": {},
      "cell_type": "markdown",
      "metadata": {},
      "source": [
        "## 1.2. <a id='toc1_2_'></a>[Get helper functions](#toc0_)\n",
        "\n",
        "In past modules, we've created a bunch of helper functions to do small tasks required for our notebooks.\n",
        "\n",
        "Rather than rewrite all of these, we can import a script and load them in from there.\n",
        "\n",
        "The script we've got available can be found on GitHub: https://raw.githubusercontent.com/mrdbourke/tensorflow-deep-learning/main/extras/helper_functions.py"
      ]
    },
    {
      "cell_type": "code",
      "execution_count": 508,
      "metadata": {
        "colab": {
          "base_uri": "https://localhost:8080/"
        },
        "id": "CJRk1sOm_pQC",
        "outputId": "fe2254e7-072f-47c5-891e-6d6b193e839d"
      },
      "outputs": [],
      "source": [
        "# ==================Download helper functions script==================\n",
        "\n",
        "# =====for linux command=====\n",
        "import os\n",
        "PATH = 'https://github.com/chioujryu/Deep-Learning-API/raw/main/deep_learning_helper_functions_tensorflow.py'\n",
        "BASENAME = os.path.basename(PATH)\n",
        "if os.path.exists(\"deep_learning_helper_functions_tensorflow.py\") != True:\n",
        "    !wget https://github.com/chioujryu/Deep-Learning-API/raw/main/deep_learning_helper_functions_tensorflow.py\n",
        "    print(\"Download Success\")\n",
        "\n",
        "# =====for windows command=====\n",
        "# import wget\n",
        "# import os\n",
        "# PATH = 'https://github.com/chioujryu/Deep-Learning-API/raw/main/deep_learning_helper_functions_tensorflow.py'\n",
        "# BASENAME = os.path.basename(PATH)\n",
        "# if os.path.exists(BASENAME) != True:\n",
        "#     wget.download(PATH)\n",
        "#     print(\"Download Success\")"
      ]
    },
    {
      "cell_type": "code",
      "execution_count": 509,
      "metadata": {
        "id": "EjhvILRy_-r0"
      },
      "outputs": [],
      "source": [
        "# Import series of helper functions for the notebook\n",
        "from deep_learning_helper_functions_tensorflow import create_tensorboard_callback, plot_loss_curves, compare_historys"
      ]
    },
    {
      "attachments": {},
      "cell_type": "markdown",
      "metadata": {},
      "source": [
        "## 1.3. <a id='toc1_3_'></a>[Use TensorFlow Datasets to Download Data](#toc0_)\n",
        "\n",
        "If you want to get an overview of TensorFlow Datasets (TFDS), read the guide: https://www.tensorflow.org/datasets/overview"
      ]
    },
    {
      "cell_type": "code",
      "execution_count": 510,
      "metadata": {
        "id": "2KmgCHCJA3r5"
      },
      "outputs": [],
      "source": [
        "# Get TensorFlow Datasets\n",
        "import tensorflow_datasets as tfds"
      ]
    },
    {
      "cell_type": "code",
      "execution_count": 511,
      "metadata": {
        "colab": {
          "base_uri": "https://localhost:8080/"
        },
        "id": "SDqtroSyBq9T",
        "outputId": "53be1896-53c3-4c43-a304-320af0605634"
      },
      "outputs": [
        {
          "name": "stdout",
          "output_type": "stream",
          "text": [
            "True\n"
          ]
        }
      ],
      "source": [
        "# List all available datasets\n",
        "datasets_list = tfds.list_builders() # get all available datasets in TFDS\n",
        "print(\"food101\" in datasets_list) # is our target dataset in the list of TFDS datasets?"
      ]
    },
    {
      "cell_type": "code",
      "execution_count": 512,
      "metadata": {},
      "outputs": [
        {
          "data": {
            "text/plain": [
              "1143"
            ]
          },
          "execution_count": 512,
          "metadata": {},
          "output_type": "execute_result"
        }
      ],
      "source": [
        "# 有356個資料集\n",
        "len(datasets_list)"
      ]
    },
    {
      "attachments": {},
      "cell_type": "markdown",
      "metadata": {
        "id": "kWRZJHIXD2ak"
      },
      "source": [
        "🛠 **Exercise:** Running the following cell can take a while using Google Colab (about 5-6 minutes). While your data is downloading, have a read through the TensorFlow Datasets documentation: https://www.tensorflow.org/datasets/overview\n",
        "\n",
        "🔑 **Note:** Some of the datasets contained within TensorFlow datasets are over 100GB+, meaning if you run the cell below (outside of Google Colab), you might be downloading 100GB+ to your computer or the computer that you're using. Beware as this could take a large amount of bandwidth."
      ]
    },
    {
      "cell_type": "code",
      "execution_count": 513,
      "metadata": {},
      "outputs": [],
      "source": [
        "# Load in the data (takes 5-6 minutes in Google Colab)\n",
        "(train_data, test_data), ds_info = tfds.load(name=\"food101\",\n",
        "                                             split=[\"train\", \"validation\"], # splits can be a little tricky, for more see: https://www.tensorflow.org/datasets/splits \n",
        "                                             shuffle_files=False,   # 這邊最好要用False，在Evaluate或是predict的時候比較不會出錯\n",
        "                                             as_supervised=True, # data gets returned in tuple format (data, label)\n",
        "                                             with_info=True,\n",
        "                                             #batch_size=32,\n",
        "                                             )"
      ]
    },
    {
      "attachments": {},
      "cell_type": "markdown",
      "metadata": {},
      "source": [
        "## 1.4. <a id='toc1_4_'></a>[Exploring the Food101 data from TensorFlow Datasets](#toc0_)\n",
        "\n",
        "To become one with our data, we want to find:\n",
        "* Class names\n",
        "* The shape of our input data (image tensors)\n",
        "* The datatype of our input data\n",
        "* What the labels look like (e.g. are they one-hot encoded or are they label encoded)\n",
        "* Do the labels match up with the class names?"
      ]
    },
    {
      "cell_type": "code",
      "execution_count": 514,
      "metadata": {
        "colab": {
          "base_uri": "https://localhost:8080/"
        },
        "id": "k7Mj3J2ZC_Ed",
        "outputId": "b493d2e6-17cd-423c-ad0c-22cd4c2dff52"
      },
      "outputs": [
        {
          "data": {
            "text/plain": [
              "FeaturesDict({\n",
              "    'image': Image(shape=(None, None, 3), dtype=uint8),\n",
              "    'label': ClassLabel(shape=(), dtype=int64, num_classes=101),\n",
              "})"
            ]
          },
          "execution_count": 514,
          "metadata": {},
          "output_type": "execute_result"
        }
      ],
      "source": [
        "# Features of Food101 from TFDS\n",
        "ds_info.features"
      ]
    },
    {
      "cell_type": "code",
      "execution_count": 515,
      "metadata": {
        "colab": {
          "base_uri": "https://localhost:8080/"
        },
        "id": "63vFfg3tGCaR",
        "outputId": "ee0ff41a-1b40-4eeb-f2ee-6cbb0ff0786e"
      },
      "outputs": [
        {
          "data": {
            "text/plain": [
              "['apple_pie',\n",
              " 'baby_back_ribs',\n",
              " 'baklava',\n",
              " 'beef_carpaccio',\n",
              " 'beef_tartare',\n",
              " 'beet_salad',\n",
              " 'beignets',\n",
              " 'bibimbap',\n",
              " 'bread_pudding',\n",
              " 'breakfast_burrito']"
            ]
          },
          "execution_count": 515,
          "metadata": {},
          "output_type": "execute_result"
        }
      ],
      "source": [
        "# Get the class names\n",
        "class_names = ds_info.features[\"label\"].names\n",
        "class_names[:10]"
      ]
    },
    {
      "cell_type": "code",
      "execution_count": 516,
      "metadata": {
        "id": "ooGi930eHGCr"
      },
      "outputs": [],
      "source": [
        "# Take one sample of the train data\n",
        "train_one_sample = train_data.take(1) # samples are in format (image_tensor, label)"
      ]
    },
    {
      "cell_type": "code",
      "execution_count": 517,
      "metadata": {
        "colab": {
          "base_uri": "https://localhost:8080/"
        },
        "id": "1rJzB-f7HMAk",
        "outputId": "bfdb20db-d3ae-463e-c921-232412defc1f"
      },
      "outputs": [
        {
          "data": {
            "text/plain": [
              "<TakeDataset element_spec=(TensorSpec(shape=(None, None, 3), dtype=tf.uint8, name=None), TensorSpec(shape=(), dtype=tf.int64, name=None))>"
            ]
          },
          "execution_count": 517,
          "metadata": {},
          "output_type": "execute_result"
        }
      ],
      "source": [
        "# What does one sample of our training data look like?\n",
        "train_one_sample"
      ]
    },
    {
      "cell_type": "code",
      "execution_count": 518,
      "metadata": {
        "colab": {
          "base_uri": "https://localhost:8080/"
        },
        "id": "6EHedePqHbaY",
        "outputId": "55f1a4d7-a2f1-4824-8f33-5e17450c305b"
      },
      "outputs": [
        {
          "name": "stdout",
          "output_type": "stream",
          "text": [
            "\n",
            "  Image shape: (512, 512, 3)\n",
            "  Image datatype: <dtype: 'uint8'>\n",
            "  Target class from Food101 (tensor form): 56\n",
            "  Class name (str form): huevos_rancheros\n",
            "  \n"
          ]
        }
      ],
      "source": [
        "# Output info about our training sample\n",
        "for image, label in train_one_sample:\n",
        "  print(f\"\"\"\n",
        "  Image shape: {image.shape}\n",
        "  Image datatype: {image.dtype}\n",
        "  Target class from Food101 (tensor form): {label}\n",
        "  Class name (str form): {class_names[label.numpy()]}\n",
        "  \"\"\")"
      ]
    },
    {
      "cell_type": "code",
      "execution_count": 519,
      "metadata": {
        "colab": {
          "base_uri": "https://localhost:8080/"
        },
        "id": "stxlJZRXILTG",
        "outputId": "b5c1a8c0-d130-4813-b6f5-1f698c87ea41"
      },
      "outputs": [
        {
          "data": {
            "text/plain": [
              "<tf.Tensor: shape=(512, 512, 3), dtype=uint8, numpy=\n",
              "array([[[233, 253, 251],\n",
              "        [231, 253, 250],\n",
              "        [228, 254, 251],\n",
              "        ...,\n",
              "        [ 85,  82,  89],\n",
              "        [ 68,  67,  75],\n",
              "        [ 57,  57,  67]],\n",
              "\n",
              "       [[232, 254, 252],\n",
              "        [229, 254, 251],\n",
              "        [226, 255, 251],\n",
              "        ...,\n",
              "        [121, 116, 120],\n",
              "        [100,  99, 104],\n",
              "        [ 86,  85,  91]],\n",
              "\n",
              "       [[228, 254, 253],\n",
              "        [226, 255, 253],\n",
              "        [223, 255, 252],\n",
              "        ...,\n",
              "        [164, 159, 155],\n",
              "        [145, 141, 138],\n",
              "        [128, 127, 125]],\n",
              "\n",
              "       ...,\n",
              "\n",
              "       [[ 66, 112, 164],\n",
              "        [ 67, 113, 163],\n",
              "        [ 55,  99, 148],\n",
              "        ...,\n",
              "        [  5,  14,  23],\n",
              "        [  9,  18,  27],\n",
              "        [  8,  17,  26]],\n",
              "\n",
              "       [[ 76, 123, 177],\n",
              "        [ 75, 122, 176],\n",
              "        [ 70, 116, 168],\n",
              "        ...,\n",
              "        [  5,  14,  23],\n",
              "        [  9,  18,  25],\n",
              "        [  7,  16,  23]],\n",
              "\n",
              "       [[ 80, 129, 185],\n",
              "        [ 71, 121, 174],\n",
              "        [ 74, 121, 175],\n",
              "        ...,\n",
              "        [  7,  16,  25],\n",
              "        [ 11,  20,  27],\n",
              "        [ 10,  19,  26]]], dtype=uint8)>"
            ]
          },
          "execution_count": 519,
          "metadata": {},
          "output_type": "execute_result"
        }
      ],
      "source": [
        "# What does our image tensor from TFDS's Food101 look like?\n",
        "image"
      ]
    },
    {
      "cell_type": "code",
      "execution_count": 520,
      "metadata": {
        "colab": {
          "base_uri": "https://localhost:8080/"
        },
        "id": "dFdkOB59IQBe",
        "outputId": "61c9fc9d-2302-422b-b399-0482c915a6fa"
      },
      "outputs": [
        {
          "data": {
            "text/plain": [
              "(<tf.Tensor: shape=(), dtype=uint8, numpy=0>,\n",
              " <tf.Tensor: shape=(), dtype=uint8, numpy=255>)"
            ]
          },
          "execution_count": 520,
          "metadata": {},
          "output_type": "execute_result"
        }
      ],
      "source": [
        "# What are the min and max values of our image tensor?\n",
        "import tensorflow as tf\n",
        "tf.reduce_min(image), tf.reduce_max(image)"
      ]
    },
    {
      "attachments": {},
      "cell_type": "markdown",
      "metadata": {},
      "source": [
        "### 1.4.1. <a id='toc1_4_1_'></a>[Plot an image from TensorFlow Datasets](#toc0_)"
      ]
    },
    {
      "cell_type": "code",
      "execution_count": 521,
      "metadata": {
        "colab": {
          "base_uri": "https://localhost:8080/",
          "height": 264
        },
        "id": "WNzDdVoeIny4",
        "outputId": "2426e0fc-956f-4343-b7b3-e47a85125e66"
      },
      "outputs": [
        {
          "data": {
            "image/png": "[encoded data removed]",
            "text/plain": [
              "<Figure size 640x480 with 1 Axes>"
            ]
          },
          "metadata": {},
          "output_type": "display_data"
        }
      ],
      "source": [
        "# Plot an image tensor\n",
        "import matplotlib.pyplot as plt\n",
        "plt.imshow(image)\n",
        "plt.title(class_names[label.numpy()]) # Add title to image to verify the label is assosciated with the right image\n",
        "plt.axis(False);"
      ]
    },
    {
      "attachments": {},
      "cell_type": "markdown",
      "metadata": {},
      "source": [
        "## 1.5. <a id='toc1_5_'></a>[Create preprocessing functions for our data](#toc0_)\n",
        "\n",
        "Neural networks perform best when data is in a certain way (e.g. batched, normalized, etc).\n",
        "\n",
        "However, not all data (including data from from TensorFlow Datasets) comes like this.\n",
        "\n",
        "So in order to get it ready for a neural network, you'll often have to write preprocessing functions and map it to your data.\n",
        "\n",
        "What we know about our data:\n",
        "* In `uint8` datatype\n",
        "* Comprised of all different size tensors (different sized images)\n",
        "* Not scaled (the pixel values are between 0 & 255)\n",
        "\n",
        "What we know models like:\n",
        "* Data in `float32` dtype (or for mixed precision `float16` and `float32`)\n",
        "* For batches, TensorFlow likes all of the tensors within a batch to be of the same size\n",
        "* Scaled (values between 0 & 1) also called normalized tensors generally perform better\n",
        "\n",
        "With these points in mind, we've got a few things we can tackle with a preprocessing function.\n",
        "\n",
        "Since we're going to be using an EfficientNetBX pretrained model from tf.keras.applications we don't need to rescale our data (these architectures have rescaling built-in).\n",
        "\n",
        "This means our functions needs to:\n",
        "1. Reshape our images to all the same size\n",
        "2. Convert the dtype of our image tensors from `unit8` to `float32`"
      ]
    },
    {
      "cell_type": "code",
      "execution_count": 522,
      "metadata": {
        "id": "gD5e7KtxMJMD"
      },
      "outputs": [],
      "source": [
        "# Our data comes in the tuple structure: (image, label)"
      ]
    },
    {
      "cell_type": "code",
      "execution_count": 523,
      "metadata": {},
      "outputs": [],
      "source": [
        "# Make a function for preprocessing images\n",
        "\n",
        "def preprocess_img(image, label, img_shape=224):\n",
        "  \"\"\"\n",
        "  Converts image datatype from 'uint8' -> 'float32' and reshapes\n",
        "  image to [img_shape, img_shape, colour_channels]\n",
        "  \"\"\"\n",
        "  image = tf.image.resize(image,[img_shape,img_shape])# reshape target image\n",
        "  # image = image/255. # scale image values (not required with EfficientNetBX models from tf.keras.applications)\n",
        "  return tf.cast(image,tf.float32), label  # return (float32_image, label) tuple"
      ]
    },
    {
      "cell_type": "code",
      "execution_count": 524,
      "metadata": {
        "colab": {
          "base_uri": "https://localhost:8080/"
        },
        "id": "aWYDqRsxMtbf",
        "outputId": "a314bb4f-ddc0-4553-f31b-092c3f6d0ab8"
      },
      "outputs": [
        {
          "name": "stdout",
          "output_type": "stream",
          "text": [
            "Image before preprocessing:\n",
            " [[[233 253 251]\n",
            "  [231 253 250]\n",
            "  [228 254 251]\n",
            "  ...\n",
            "  [ 85  82  89]\n",
            "  [ 68  67  75]\n",
            "  [ 57  57  67]]\n",
            "\n",
            " [[232 254 252]\n",
            "  [229 254 251]\n",
            "  [226 255 251]\n",
            "  ...\n",
            "  [121 116 120]\n",
            "  [100  99 104]\n",
            "  [ 86  85  91]]]..., \n",
            "Shape: (512, 512, 3),\n",
            "Datatype: <dtype: 'uint8'>\n",
            "\n",
            "Image after preprocessing:\n",
            "[[[230.65816 253.64285 251.     ]\n",
            "  [222.99998 254.97449 252.19388]\n",
            "  [207.06633 255.      250.36734]\n",
            "  ...\n",
            "  [140.66287 129.52519 121.22428]\n",
            "  [121.14268 115.26515 116.95397]\n",
            "  [ 83.95363  83.08119  89.63737]]\n",
            "\n",
            " [[221.47449 254.37755 253.33163]\n",
            "  [214.5102  255.      253.92348]\n",
            "  [198.41327 254.58673 251.96939]\n",
            "  ...\n",
            "  [208.66318 195.82143 173.40823]\n",
            "  [197.03056 190.1071  174.83162]\n",
            "  [175.54036 171.6169  161.21384]]]...,\n",
            "Shape: (224, 224, 3),\n",
            "Datatype: <dtype: 'float32'>\n"
          ]
        }
      ],
      "source": [
        "# Preprocess a single sample image and check the outputs\n",
        "preprocessed_img  = preprocess_img(image, label)[0]\n",
        "print(f\"Image before preprocessing:\\n {image[:2]}..., \\nShape: {image.shape},\\nDatatype: {image.dtype}\\n\")\n",
        "print(f\"Image after preprocessing:\\n{preprocessed_img[:2]}...,\\nShape: {preprocessed_img.shape},\\nDatatype: {preprocessed_img.dtype}\")"
      ]
    },
    {
      "attachments": {},
      "cell_type": "markdown",
      "metadata": {},
      "source": [
        "## 1.6. <a id='toc1_6_'></a>[Batch & prepare datasets](#toc0_)\n",
        "\n",
        "We're now going to make our data input pipeline run really fast. \n",
        "\n",
        "For more resources on this, I'd highly going through the following guide: https://www.tensorflow.org/guide/data_performance"
      ]
    },
    {
      "cell_type": "code",
      "execution_count": 525,
      "metadata": {
        "id": "7KCYKnAq5JmW"
      },
      "outputs": [],
      "source": [
        "# Map preprocessing function to training (and parallelize)\n",
        "train_data = train_data.map(map_func=preprocess_img, num_parallel_calls=tf.data.AUTOTUNE)\n",
        "\n",
        "# Shuffle train_data and turn it into batches and prefetch it (load it faster)\n",
        "train_data  = train_data.shuffle(buffer_size=1000).batch(batch_size=32).prefetch(buffer_size=tf.data.AUTOTUNE)\n",
        "\n",
        "# Map preprocessing function to test data\n",
        "test_data = test_data.map(preprocess_img, num_parallel_calls=tf.data.AUTOTUNE).batch(32).prefetch(tf.data.AUTOTUNE)"
      ]
    },
    {
      "attachments": {},
      "cell_type": "markdown",
      "metadata": {
        "id": "5SUZ9qtJ76fX"
      },
      "source": [
        "> \"Hey, TensorFlow, map this preprocessing function (`preprocess_img`) across our training dataset, then shuffle a number of elements and then batch them together and finally make sure you prepare new batches (prefetch) whilst the model is looking through (finding patterns) the current batch.\""
      ]
    },
    {
      "attachments": {},
      "cell_type": "markdown",
      "metadata": {},
      "source": [
        "## 1.7. <a id='toc1_7_'></a>[Create modelling callbacks](#toc0_)\n",
        "\n",
        "We're going to create a couple of callbacks to help us while our model trains:\n",
        "* TensorBoard callback to log training results (so we can visualize them later if need be)\n",
        "* ModelCheckpoint callback to save our model's progress after feature extraction"
      ]
    },
    {
      "cell_type": "code",
      "execution_count": 526,
      "metadata": {
        "id": "8shN8c26-mqS"
      },
      "outputs": [],
      "source": [
        "# Create tensorboard callback (import from helper_functions.py)\n",
        "# Reference: https://github.com/chioujryu/Deep-Learning-API\n",
        "from deep_learning_helper_functions_tensorflow import create_tensorboard_callback\n",
        "\n",
        "# Create ModelCheckpoint callback to save a model's progress during training \n",
        "checkpoint_path = \"ckeckpoint/101_food_classes_feature_extract/cp.ckpt\"\n",
        "model_checkpoint = tf.keras.callbacks.ModelCheckpoint(filepath = checkpoint_path, \n",
        "                                    monitor = 'val_loss',\n",
        "                                    verbose = 0,   # don't print whether or not model is being saved\n",
        "                                    save_best_only = True,\n",
        "                                    save_weights_only = True,\n",
        "                                    mode = 'auto',\n",
        "                                    save_freq = 'epoch',\n",
        "                                    options = None,\n",
        "                                    initial_value_threshold = None,\n",
        "                                   )"
      ]
    },
    {
      "attachments": {},
      "cell_type": "markdown",
      "metadata": {},
      "source": [
        "## 1.8. <a id='toc1_8_'></a>[Setup mixed precision training](#toc0_)\n",
        "\n",
        "First and foremost, for a deeper understanding of mixed precision training, check out the TensorFlow guide for mixed precision: https://www.tensorflow.org/guide/mixed_precision\n",
        "\n",
        "Mixed precision utilizes a combination of float32 and float16 data types to speed up model performance."
      ]
    },
    {
      "cell_type": "code",
      "execution_count": 527,
      "metadata": {
        "colab": {
          "base_uri": "https://localhost:8080/"
        },
        "id": "qDt0YisgA20e",
        "outputId": "11ef31a3-d1f9-4b65-c6e4-a340120f511c"
      },
      "outputs": [],
      "source": [
        "# Turn on mixed precision training\n",
        "tf.keras.mixed_precision.set_global_policy(\"mixed_float16\")     # set global data policy to mixed precision "
      ]
    },
    {
      "cell_type": "code",
      "execution_count": 528,
      "metadata": {
        "colab": {
          "base_uri": "https://localhost:8080/"
        },
        "id": "_M8FpRk5Bsqn",
        "outputId": "8e5e3ebb-d7ad-4b06-e04c-c9bd0c081fa4"
      },
      "outputs": [
        {
          "data": {
            "text/plain": [
              "<Policy \"mixed_float16\">"
            ]
          },
          "execution_count": 528,
          "metadata": {},
          "output_type": "execute_result"
        }
      ],
      "source": [
        "tf.keras.mixed_precision.global_policy()"
      ]
    },
    {
      "attachments": {},
      "cell_type": "markdown",
      "metadata": {},
      "source": [
        "## 1.9. <a id='toc1_9_'></a>[Build feature extraction model](#toc0_)"
      ]
    },
    {
      "cell_type": "code",
      "execution_count": 529,
      "metadata": {
        "colab": {
          "base_uri": "https://localhost:8080/"
        },
        "id": "1VODMgH-FB9y",
        "outputId": "8a3e1a7b-687c-4b6f-f147-8b039eb15408"
      },
      "outputs": [],
      "source": [
        "# Create base model\n",
        "input_shape = (224,224,3)\n",
        "base_model = tf.keras.applications.efficientnet.EfficientNetB0(include_top=False,\n",
        "                                                                weights='imagenet',\n",
        "                                                                input_tensor=None,\n",
        "                                                                input_shape=None,\n",
        "                                                                pooling=None,\n",
        "                                                                classes=1000,\n",
        "                                                                classifier_activation='softmax')\n",
        "base_model.trainable = False\n",
        "\n",
        "# Create functional model\n",
        "inputs = tf.keras.Input(shape=input_shape, name=\"input_layer\")\n",
        "\n",
        "# Note: EfficientNetBX models have rescaling built-in but if your model doesn't you can have a layer like below\n",
        "# x = preprocessing.Rescaling(1./255)(x)\n",
        "x = base_model(inputs, training = False) # makes sure layers which should be in inference mode only stay like that\n",
        "x = tf.keras.layers.GlobalAveragePooling2D(name=\"global_average_pooling_2D_layer\")(x)\n",
        "x = tf.keras.layers.Dense(len(class_names))(x)\n",
        "outputs = tf.keras.layers.Activation(\"softmax\", dtype=tf.float32, name=\"softmax_float32\")(x)\n",
        "model = tf.keras.Model(inputs, outputs)\n",
        "\n",
        "# Compile the model\n",
        "model.compile(loss=\"sparse_categorical_crossentropy\",\n",
        "              optimizer=tf.keras.optimizers.Adam(),\n",
        "              metrics=[\"accuracy\"])"
      ]
    },
    {
      "cell_type": "code",
      "execution_count": 530,
      "metadata": {},
      "outputs": [
        {
          "name": "stdout",
          "output_type": "stream",
          "text": [
            "Model: \"model_13\"\n",
            "_________________________________________________________________\n",
            " Layer (type)                Output Shape              Param #   \n",
            "=================================================================\n",
            " input_layer (InputLayer)    [(None, 224, 224, 3)]     0         \n",
            "                                                                 \n",
            " efficientnetb0 (Functional)  (None, None, None, 1280)  4049571  \n",
            "                                                                 \n",
            " global_average_pooling_2D_l  (None, 1280)             0         \n",
            " ayer (GlobalAveragePooling2                                     \n",
            " D)                                                              \n",
            "                                                                 \n",
            " dense_13 (Dense)            (None, 101)               129381    \n",
            "                                                                 \n",
            " softmax_float32 (Activation  (None, 101)              0         \n",
            " )                                                               \n",
            "                                                                 \n",
            "=================================================================\n",
            "Total params: 4,178,952\n",
            "Trainable params: 129,381\n",
            "Non-trainable params: 4,049,571\n",
            "_________________________________________________________________\n"
          ]
        }
      ],
      "source": [
        "model.summary()"
      ]
    },
    {
      "attachments": {},
      "cell_type": "markdown",
      "metadata": {},
      "source": [
        "## 1.10. <a id='toc1_10_'></a>[Checking layer dtype policies (are we using mixed precision?)](#toc0_)"
      ]
    },
    {
      "cell_type": "code",
      "execution_count": 531,
      "metadata": {},
      "outputs": [
        {
          "data": {
            "text/plain": [
              "[<keras.engine.input_layer.InputLayer at 0x7f1cd6e41d60>,\n",
              " <keras.engine.functional.Functional at 0x7f1cd5c3ba30>,\n",
              " <keras.layers.pooling.GlobalAveragePooling2D at 0x7f1cd6bb5790>,\n",
              " <keras.layers.core.dense.Dense at 0x7f2ab94c8a30>,\n",
              " <keras.layers.core.activation.Activation at 0x7f2ad2b65490>]"
            ]
          },
          "execution_count": 531,
          "metadata": {},
          "output_type": "execute_result"
        }
      ],
      "source": [
        "model.layers"
      ]
    },
    {
      "cell_type": "code",
      "execution_count": 532,
      "metadata": {
        "colab": {
          "base_uri": "https://localhost:8080/"
        },
        "id": "5aKpd1fQIoma",
        "outputId": "202d8485-249c-4de8-a39d-0cc307ecc786"
      },
      "outputs": [
        {
          "name": "stdout",
          "output_type": "stream",
          "text": [
            "input_layer | True | float32 | <Policy \"float32\">\n",
            "efficientnetb0 | False | float32 | <Policy \"mixed_float16\">\n",
            "global_average_pooling_2D_layer | True | float32 | <Policy \"mixed_float16\">\n",
            "dense_13 | True | float32 | <Policy \"mixed_float16\">\n",
            "softmax_float32 | True | float32 | <Policy \"float32\">\n"
          ]
        }
      ],
      "source": [
        "# Check the dtype_policy attributes of layers in our model\n",
        "for layer in model.layers:\n",
        "    print(layer.name, \"|\", layer.trainable, \"|\", layer.dtype, \"|\", layer.dtype_policy)"
      ]
    },
    {
      "attachments": {},
      "cell_type": "markdown",
      "metadata": {
        "id": "-eaqT9DxI-SH"
      },
      "source": [
        "Going through the above we see:\n",
        "* `layer.name`: the human readable name of a particular layer\n",
        "* `layer.trainable`: is the layer trainable or not? (if `False`, the weights are frozen)\n",
        "* `layer.dtype`: the data type a layer stores its variables in\n",
        "* `layer.dtype_policy`: the data type policy a layer computes on its variables with"
      ]
    },
    {
      "cell_type": "code",
      "execution_count": 533,
      "metadata": {
        "colab": {
          "base_uri": "https://localhost:8080/"
        },
        "id": "ek8_JHCxI6fS",
        "outputId": "6d1264fc-cdc6-44eb-a9f7-39e0048b9215"
      },
      "outputs": [
        {
          "name": "stdout",
          "output_type": "stream",
          "text": [
            "input_14 False float32 <Policy \"float32\">\n",
            "rescaling_13 False float32 <Policy \"mixed_float16\">\n",
            "normalization_13 False float32 <Policy \"mixed_float16\">\n",
            "stem_conv_pad False float32 <Policy \"mixed_float16\">\n",
            "stem_conv False float32 <Policy \"mixed_float16\">\n",
            "stem_bn False float32 <Policy \"mixed_float16\">\n",
            "stem_activation False float32 <Policy \"mixed_float16\">\n",
            "block1a_dwconv False float32 <Policy \"mixed_float16\">\n",
            "block1a_bn False float32 <Policy \"mixed_float16\">\n",
            "block1a_activation False float32 <Policy \"mixed_float16\">\n",
            "block1a_se_squeeze False float32 <Policy \"mixed_float16\">\n",
            "block1a_se_reshape False float32 <Policy \"mixed_float16\">\n",
            "block1a_se_reduce False float32 <Policy \"mixed_float16\">\n",
            "block1a_se_expand False float32 <Policy \"mixed_float16\">\n",
            "block1a_se_excite False float32 <Policy \"mixed_float16\">\n",
            "block1a_project_conv False float32 <Policy \"mixed_float16\">\n",
            "block1a_project_bn False float32 <Policy \"mixed_float16\">\n",
            "block2a_expand_conv False float32 <Policy \"mixed_float16\">\n",
            "block2a_expand_bn False float32 <Policy \"mixed_float16\">\n",
            "block2a_expand_activation False float32 <Policy \"mixed_float16\">\n"
          ]
        }
      ],
      "source": [
        "# Check the dtype_policy attributes of layers in the base model\n",
        "for layer in model.layers[1].layers[:20]:\n",
        "    print(layer.name, layer.trainable, layer.dtype, layer.dtype_policy) # check the layers of the base model (layer at index 1 of `model`)"
      ]
    },
    {
      "cell_type": "code",
      "execution_count": 534,
      "metadata": {
        "colab": {
          "base_uri": "https://localhost:8080/"
        },
        "id": "BGUMwq9sJ2DS",
        "outputId": "5d7a8fc3-a506-4cc7-e75f-906fc3dd5470"
      },
      "outputs": [
        {
          "data": {
            "text/plain": [
              "<Policy \"mixed_float16\">"
            ]
          },
          "execution_count": 534,
          "metadata": {},
          "output_type": "execute_result"
        }
      ],
      "source": [
        "tf.keras.mixed_precision.global_policy()"
      ]
    },
    {
      "attachments": {},
      "cell_type": "markdown",
      "metadata": {},
      "source": [
        "## 1.11. <a id='toc1_11_'></a>[Fit the feature extraction model](#toc0_)\n",
        "\n",
        "If our goal is to fine-tune a pretrained model, the general order of doing things is:\n",
        "1. Build a feature extraction model (train a couple output layers with base layers frozen) \n",
        "2. Fine-tune some of the frozen layers"
      ]
    },
    {
      "cell_type": "code",
      "execution_count": 535,
      "metadata": {
        "colab": {
          "base_uri": "https://localhost:8080/"
        },
        "id": "3NjAEEJ4K0M7",
        "outputId": "86a44640-6f93-48c0-f687-50b3d0ada149"
      },
      "outputs": [
        {
          "name": "stdout",
          "output_type": "stream",
          "text": [
            "Saving TensorBoard log files to: training_logs/efficientnetb0_101_classes_all_data_feature_extract/20230616-144037\n",
            "Epoch 1/10\n"
          ]
        },
        {
          "name": "stdout",
          "output_type": "stream",
          "text": [
            "2368/2368 - 49s - loss: 1.8243 - accuracy: 0.5570 - val_loss: 1.2301 - val_accuracy: 0.6748 - 49s/epoch - 21ms/step\n",
            "Epoch 2/10\n",
            "2368/2368 - 47s - loss: 1.2953 - accuracy: 0.6664 - val_loss: 1.1247 - val_accuracy: 0.6976 - 47s/epoch - 20ms/step\n",
            "Epoch 3/10\n",
            "2368/2368 - 46s - loss: 1.1445 - accuracy: 0.7015 - val_loss: 1.0872 - val_accuracy: 0.7042 - 46s/epoch - 19ms/step\n",
            "Epoch 4/10\n",
            "2368/2368 - 46s - loss: 1.0467 - accuracy: 0.7266 - val_loss: 1.0716 - val_accuracy: 0.7121 - 46s/epoch - 19ms/step\n",
            "Epoch 5/10\n",
            "2368/2368 - 46s - loss: 0.9745 - accuracy: 0.7445 - val_loss: 1.0591 - val_accuracy: 0.7132 - 46s/epoch - 20ms/step\n",
            "Epoch 6/10\n",
            "2368/2368 - 46s - loss: 0.9168 - accuracy: 0.7584 - val_loss: 1.0713 - val_accuracy: 0.7079 - 46s/epoch - 19ms/step\n",
            "Epoch 7/10\n",
            "2368/2368 - 46s - loss: 0.8681 - accuracy: 0.7725 - val_loss: 1.0739 - val_accuracy: 0.7100 - 46s/epoch - 20ms/step\n",
            "Epoch 8/10\n",
            "2368/2368 - 47s - loss: 0.8281 - accuracy: 0.7823 - val_loss: 1.0751 - val_accuracy: 0.7113 - 47s/epoch - 20ms/step\n",
            "Epoch 9/10\n",
            "2368/2368 - 47s - loss: 0.7924 - accuracy: 0.7910 - val_loss: 1.0759 - val_accuracy: 0.7132 - 47s/epoch - 20ms/step\n",
            "Epoch 10/10\n",
            "2368/2368 - 47s - loss: 0.7622 - accuracy: 0.7993 - val_loss: 1.0882 - val_accuracy: 0.7103 - 47s/epoch - 20ms/step\n"
          ]
        }
      ],
      "source": [
        "# Fit the feature extraction model with callbacks\n",
        "history_101_food_classes_feature_extract = model.fit(train_data, \n",
        "                            epochs = 10, \n",
        "                            steps_per_epoch = (len(train_data)),\n",
        "                            validation_data=test_data,\n",
        "                            verbose = 2,\n",
        "                            validation_steps=int(0.15 * len(test_data)),\n",
        "                            callbacks=[create_tensorboard_callback(dir_name=\"training_logs\", \n",
        "                                                                    experiment_name=\"efficientnetb0_101_classes_all_data_feature_extract\"),\n",
        "                                                                    model_checkpoint])"
      ]
    },
    {
      "cell_type": "code",
      "execution_count": 536,
      "metadata": {
        "colab": {
          "base_uri": "https://localhost:8080/"
        },
        "id": "Ag0jN0HyMG7-",
        "outputId": "26ec82be-0dca-4c3c-de91-744dee5dea2e"
      },
      "outputs": [
        {
          "name": "stdout",
          "output_type": "stream",
          "text": [
            "790/790 [==============================] - 9s 12ms/step - loss: 1.0972 - accuracy: 0.7069\n"
          ]
        },
        {
          "data": {
            "text/plain": [
              "[1.0972206592559814, 0.7069306969642639]"
            ]
          },
          "execution_count": 536,
          "metadata": {},
          "output_type": "execute_result"
        }
      ],
      "source": [
        "# Evaluate model on whole test dataset\n",
        "results_feature_extract_model = model.evaluate(test_data)\n",
        "results_feature_extract_model"
      ]
    },
    {
      "attachments": {},
      "cell_type": "markdown",
      "metadata": {},
      "source": [
        "## 1.12. <a id='toc1_12_'></a>[Off to you...](#toc0_)\n",
        "\n",
        "We've covered a lot of ground so far but since this is a milestone project, it's time for you to takeover.\n",
        "\n",
        "More specifically, you're challenge is to complete the TEMPLATE version of 07 to obtain a computer vision model (building off the one we've built in this notebook) to beat the DeepFood paper.\n",
        "\n",
        "In other words, you're going to create Food Vision Big!!!\n",
        "\n",
        "You can find the TEMPLATE notebook here: https://github.com/mrdbourke/tensorflow-deep-learning/blob/main/extras/TEMPLATE_07_food_vision_milestone_project_1.ipynb\n",
        "\n",
        "And if you get stuck, you can refer to the example version (non-template): https://github.com/mrdbourke/tensorflow-deep-learning/blob/main/07_food_vision_milestone_project_1.ipynb"
      ]
    },
    {
      "attachments": {},
      "cell_type": "markdown",
      "metadata": {},
      "source": [
        "# 2. <a id='toc2_'></a>[Load and evaluate checkpoint weights](#toc0_)\n",
        "\n",
        "We can load in and evaluate our model's checkpoints by:\n",
        "\n",
        "1. Recreating a new instance of our model called `created_model` by turning our original model creation code into a function called `create_model()`.\n",
        "2. Compiling our `created_model` with the same loss, optimizer and metrics as the original model (every time you create a new model, you must compile it).\n",
        "3. Calling the `load_weights()` method on our `created_model` and passing it the path to where our checkpointed weights are stored.\n",
        "4. Calling `evaluate()` on `created_model` with loaded weights and saving the results.\n",
        "5. Comparing the `created_model` results to our previous `model` results (these should be the exact same, if not very close).\n",
        "\n",
        "A reminder, checkpoints are helpful for when you perform an experiment such as fine-tuning your model. In the case you fine-tune your feature extraction model and find it doesn't offer any improvements, you can always revert back to the checkpointed version of your model.\n",
        "\n",
        "> **Note:** This section originally used the `tf.keras.clone_model` [method](https://www.tensorflow.org/api_docs/python/tf/keras/models/clone_model), however, due to several potential errors with that method, it changed to create a new model (rather than cloning) via a `create_model`() function. See the [discussion on the course GitHub](https://github.com/mrdbourke/tensorflow-deep-learning/discussions/550) for more."
      ]
    },
    {
      "cell_type": "code",
      "execution_count": 537,
      "metadata": {},
      "outputs": [
        {
          "name": "stdout",
          "output_type": "stream",
          "text": [
            "790/790 - 9s - loss: 1.0674 - accuracy: 0.7127 - 9s/epoch - 12ms/step\n"
          ]
        }
      ],
      "source": [
        "# 1. Create a function to recreate the original model\n",
        "def create_model():\n",
        "  # Create base model\n",
        "  input_shape = (224, 224, 3)\n",
        "  base_model = tf.keras.applications.efficientnet.EfficientNetB0(include_top=False)\n",
        "  base_model.trainable = False # freeze base model layers\n",
        "\n",
        "  # Create Functional model \n",
        "  inputs = tf.keras.layers.Input(shape=input_shape, name=\"input_layer\")\n",
        "  # Note: EfficientNetBX models have rescaling built-in but if your model didn't you could have a layer like below\n",
        "  # x = layers.Rescaling(1./255)(x)\n",
        "  x = base_model(inputs, training=False) # set base_model to inference mode only\n",
        "  x = tf.keras.layers.GlobalAveragePooling2D(name=\"pooling_layer\")(x)\n",
        "  x = tf.keras.layers.Dense(len(class_names))(x) # want one output neuron per class \n",
        "  # Separate activation of output layer so we can output float32 activations\n",
        "  outputs = tf.keras.layers.Activation(\"softmax\", dtype=tf.float32, name=\"softmax_float32\")(x) \n",
        "  model = tf.keras.Model(inputs, outputs)\n",
        "  \n",
        "  return model\n",
        "\n",
        "# 2. Create and compile a new version of the original model (new weights)\n",
        "created_model = create_model()\n",
        "created_model.compile(loss=\"sparse_categorical_crossentropy\",\n",
        "                      optimizer=tf.keras.optimizers.Adam(),\n",
        "                      metrics=[\"accuracy\"])\n",
        "\n",
        "# 3. Load the saved weights\n",
        "created_model.load_weights(checkpoint_path)\n",
        "\n",
        "# 4. Evaluate the model with loaded weights\n",
        "results_created_model_with_loaded_weights = created_model.evaluate(test_data, verbose=2)"
      ]
    },
    {
      "attachments": {},
      "cell_type": "markdown",
      "metadata": {},
      "source": [
        "### Compare the model with loaded weight and feature extraction model\n",
        "Our `created_model` with loaded weight's results should be very close to the feature extraction model's results (if the cell below errors, something went wrong)."
      ]
    },
    {
      "cell_type": "code",
      "execution_count": 538,
      "metadata": {},
      "outputs": [],
      "source": [
        "# 5. Loaded checkpoint weights should return very similar results to checkpoint weights prior to saving\n",
        "# import numpy as np\n",
        "# assert np.isclose(results_feature_extract_model, results_created_model_with_loaded_weights).all(), \\\n",
        "#                                     \"Loaded weights results are not close to original model.\""
      ]
    },
    {
      "attachments": {},
      "cell_type": "markdown",
      "metadata": {},
      "source": [
        "### Cloning the model preserves `dtype_policy`'s of layers\n",
        "Cloning the model preserves `dtype_policy`'s of layers (but doesn't preserve weights) so if we wanted to continue fine-tuning our `created_model`, we could and it would still use the mixed precision dtype policy."
      ]
    },
    {
      "cell_type": "code",
      "execution_count": 539,
      "metadata": {},
      "outputs": [
        {
          "name": "stdout",
          "output_type": "stream",
          "text": [
            "input_15 False float32 <Policy \"float32\">\n",
            "rescaling_14 False float32 <Policy \"mixed_float16\">\n",
            "normalization_14 False float32 <Policy \"mixed_float16\">\n",
            "stem_conv_pad False float32 <Policy \"mixed_float16\">\n",
            "stem_conv False float32 <Policy \"mixed_float16\">\n",
            "stem_bn False float32 <Policy \"mixed_float16\">\n",
            "stem_activation False float32 <Policy \"mixed_float16\">\n",
            "block1a_dwconv False float32 <Policy \"mixed_float16\">\n",
            "block1a_bn False float32 <Policy \"mixed_float16\">\n",
            "block1a_activation False float32 <Policy \"mixed_float16\">\n",
            "block1a_se_squeeze False float32 <Policy \"mixed_float16\">\n",
            "block1a_se_reshape False float32 <Policy \"mixed_float16\">\n",
            "block1a_se_reduce False float32 <Policy \"mixed_float16\">\n",
            "block1a_se_expand False float32 <Policy \"mixed_float16\">\n",
            "block1a_se_excite False float32 <Policy \"mixed_float16\">\n",
            "block1a_project_conv False float32 <Policy \"mixed_float16\">\n",
            "block1a_project_bn False float32 <Policy \"mixed_float16\">\n",
            "block2a_expand_conv False float32 <Policy \"mixed_float16\">\n",
            "block2a_expand_bn False float32 <Policy \"mixed_float16\">\n",
            "block2a_expand_activation False float32 <Policy \"mixed_float16\">\n"
          ]
        }
      ],
      "source": [
        "# Check the layers in the base model and see what dtype policy they're using\n",
        "for layer in created_model.layers[1].layers[:20]: # check only the first 20 layers to save printing space\n",
        "    print(layer.name, layer.trainable, layer.dtype, layer.dtype_policy)"
      ]
    },
    {
      "attachments": {},
      "cell_type": "markdown",
      "metadata": {},
      "source": [
        "## 2.1. <a id='toc2_1_'></a>[Save the whole model to file](#toc0_)"
      ]
    },
    {
      "cell_type": "code",
      "execution_count": 540,
      "metadata": {},
      "outputs": [
        {
          "name": "stdout",
          "output_type": "stream",
          "text": [
            "WARNING:tensorflow:Detecting that an object or model or tf.train.Checkpoint is being deleted with unrestored values. See the following logs for the specific values in question. To silence these warnings, use `status.expect_partial()`. See https://www.tensorflow.org/api_docs/python/tf/train/Checkpoint#restorefor details about the status object returned by the restore function.\n"
          ]
        },
        {
          "name": "stderr",
          "output_type": "stream",
          "text": [
            "WARNING:tensorflow:Detecting that an object or model or tf.train.Checkpoint is being deleted with unrestored values. See the following logs for the specific values in question. To silence these warnings, use `status.expect_partial()`. See https://www.tensorflow.org/api_docs/python/tf/train/Checkpoint#restorefor details about the status object returned by the restore function.\n"
          ]
        },
        {
          "name": "stdout",
          "output_type": "stream",
          "text": [
            "WARNING:tensorflow:Value in checkpoint could not be found in the restored object: (root).optimizer.iter\n"
          ]
        },
        {
          "name": "stderr",
          "output_type": "stream",
          "text": [
            "WARNING:tensorflow:Value in checkpoint could not be found in the restored object: (root).optimizer.iter\n"
          ]
        },
        {
          "name": "stdout",
          "output_type": "stream",
          "text": [
            "WARNING:tensorflow:Value in checkpoint could not be found in the restored object: (root).optimizer.beta_1\n"
          ]
        },
        {
          "name": "stderr",
          "output_type": "stream",
          "text": [
            "WARNING:tensorflow:Value in checkpoint could not be found in the restored object: (root).optimizer.beta_1\n"
          ]
        },
        {
          "name": "stdout",
          "output_type": "stream",
          "text": [
            "WARNING:tensorflow:Value in checkpoint could not be found in the restored object: (root).optimizer.beta_2\n"
          ]
        },
        {
          "name": "stderr",
          "output_type": "stream",
          "text": [
            "WARNING:tensorflow:Value in checkpoint could not be found in the restored object: (root).optimizer.beta_2\n"
          ]
        },
        {
          "name": "stdout",
          "output_type": "stream",
          "text": [
            "WARNING:tensorflow:Value in checkpoint could not be found in the restored object: (root).optimizer.decay\n"
          ]
        },
        {
          "name": "stderr",
          "output_type": "stream",
          "text": [
            "WARNING:tensorflow:Value in checkpoint could not be found in the restored object: (root).optimizer.decay\n"
          ]
        },
        {
          "name": "stdout",
          "output_type": "stream",
          "text": [
            "WARNING:tensorflow:Value in checkpoint could not be found in the restored object: (root).optimizer.learning_rate\n"
          ]
        },
        {
          "name": "stderr",
          "output_type": "stream",
          "text": [
            "WARNING:tensorflow:Value in checkpoint could not be found in the restored object: (root).optimizer.learning_rate\n"
          ]
        },
        {
          "name": "stdout",
          "output_type": "stream",
          "text": [
            "INFO:tensorflow:Assets written to: saved_model/my_model/assets\n"
          ]
        },
        {
          "name": "stderr",
          "output_type": "stream",
          "text": [
            "INFO:tensorflow:Assets written to: saved_model/my_model/assets\n"
          ]
        }
      ],
      "source": [
        "# Save model locally (if you're using Google Colab, your saved model will Colab instance terminates)\n",
        "model.save('saved_model/my_model')"
      ]
    },
    {
      "cell_type": "code",
      "execution_count": 541,
      "metadata": {},
      "outputs": [
        {
          "name": "stdout",
          "output_type": "stream",
          "text": [
            "/bin/bash: /home/cosmo/anaconda3/envs/TensorFlow_2.8.3__Python_3.9/lib/libtinfo.so.6: no version information available (required by /bin/bash)\n",
            "assets\tkeras_metadata.pb  saved_model.pb  variables\n"
          ]
        }
      ],
      "source": [
        "!ls saved_model/my_model"
      ]
    },
    {
      "cell_type": "code",
      "execution_count": 542,
      "metadata": {},
      "outputs": [],
      "source": [
        "# Load model previously saved above\n",
        "loaded_model = tf.keras.models.load_model('saved_model/my_model')"
      ]
    },
    {
      "cell_type": "code",
      "execution_count": 543,
      "metadata": {},
      "outputs": [
        {
          "name": "stdout",
          "output_type": "stream",
          "text": [
            "input_14 | True | float32 | <Policy \"float32\">\n",
            "rescaling_13 | False | float32 | <Policy \"mixed_float16\">\n",
            "normalization_13 | False | float32 | <Policy \"mixed_float16\">\n",
            "stem_conv_pad | False | float32 | <Policy \"mixed_float16\">\n",
            "stem_conv | False | float32 | <Policy \"mixed_float16\">\n",
            "stem_bn | False | float32 | <Policy \"mixed_float16\">\n",
            "stem_activation | False | float32 | <Policy \"mixed_float16\">\n",
            "block1a_dwconv | False | float32 | <Policy \"mixed_float16\">\n",
            "block1a_bn | False | float32 | <Policy \"mixed_float16\">\n",
            "block1a_activation | False | float32 | <Policy \"mixed_float16\">\n",
            "block1a_se_squeeze | False | float32 | <Policy \"mixed_float16\">\n",
            "block1a_se_reshape | False | float32 | <Policy \"mixed_float16\">\n",
            "block1a_se_reduce | False | float32 | <Policy \"mixed_float16\">\n",
            "block1a_se_expand | False | float32 | <Policy \"mixed_float16\">\n",
            "block1a_se_excite | False | float32 | <Policy \"mixed_float16\">\n",
            "block1a_project_conv | False | float32 | <Policy \"mixed_float16\">\n",
            "block1a_project_bn | False | float32 | <Policy \"mixed_float16\">\n",
            "block2a_expand_conv | False | float32 | <Policy \"mixed_float16\">\n",
            "block2a_expand_bn | False | float32 | <Policy \"mixed_float16\">\n",
            "block2a_expand_activation | False | float32 | <Policy \"mixed_float16\">\n",
            "block2a_dwconv_pad | False | float32 | <Policy \"mixed_float16\">\n",
            "block2a_dwconv | False | float32 | <Policy \"mixed_float16\">\n",
            "block2a_bn | False | float32 | <Policy \"mixed_float16\">\n",
            "block2a_activation | False | float32 | <Policy \"mixed_float16\">\n",
            "block2a_se_squeeze | False | float32 | <Policy \"mixed_float16\">\n",
            "block2a_se_reshape | False | float32 | <Policy \"mixed_float16\">\n",
            "block2a_se_reduce | False | float32 | <Policy \"mixed_float16\">\n",
            "block2a_se_expand | False | float32 | <Policy \"mixed_float16\">\n",
            "block2a_se_excite | False | float32 | <Policy \"mixed_float16\">\n",
            "block2a_project_conv | False | float32 | <Policy \"mixed_float16\">\n",
            "block2a_project_bn | False | float32 | <Policy \"mixed_float16\">\n",
            "block2b_expand_conv | False | float32 | <Policy \"mixed_float16\">\n",
            "block2b_expand_bn | False | float32 | <Policy \"mixed_float16\">\n",
            "block2b_expand_activation | False | float32 | <Policy \"mixed_float16\">\n",
            "block2b_dwconv | False | float32 | <Policy \"mixed_float16\">\n",
            "block2b_bn | False | float32 | <Policy \"mixed_float16\">\n",
            "block2b_activation | False | float32 | <Policy \"mixed_float16\">\n",
            "block2b_se_squeeze | False | float32 | <Policy \"mixed_float16\">\n",
            "block2b_se_reshape | False | float32 | <Policy \"mixed_float16\">\n",
            "block2b_se_reduce | False | float32 | <Policy \"mixed_float16\">\n",
            "block2b_se_expand | False | float32 | <Policy \"mixed_float16\">\n",
            "block2b_se_excite | False | float32 | <Policy \"mixed_float16\">\n",
            "block2b_project_conv | False | float32 | <Policy \"mixed_float16\">\n",
            "block2b_project_bn | False | float32 | <Policy \"mixed_float16\">\n",
            "block2b_drop | False | float32 | <Policy \"mixed_float16\">\n",
            "block2b_add | False | float32 | <Policy \"mixed_float16\">\n",
            "block3a_expand_conv | False | float32 | <Policy \"mixed_float16\">\n",
            "block3a_expand_bn | False | float32 | <Policy \"mixed_float16\">\n",
            "block3a_expand_activation | False | float32 | <Policy \"mixed_float16\">\n",
            "block3a_dwconv_pad | False | float32 | <Policy \"mixed_float16\">\n",
            "block3a_dwconv | False | float32 | <Policy \"mixed_float16\">\n",
            "block3a_bn | False | float32 | <Policy \"mixed_float16\">\n",
            "block3a_activation | False | float32 | <Policy \"mixed_float16\">\n",
            "block3a_se_squeeze | False | float32 | <Policy \"mixed_float16\">\n",
            "block3a_se_reshape | False | float32 | <Policy \"mixed_float16\">\n",
            "block3a_se_reduce | False | float32 | <Policy \"mixed_float16\">\n",
            "block3a_se_expand | False | float32 | <Policy \"mixed_float16\">\n",
            "block3a_se_excite | False | float32 | <Policy \"mixed_float16\">\n",
            "block3a_project_conv | False | float32 | <Policy \"mixed_float16\">\n",
            "block3a_project_bn | False | float32 | <Policy \"mixed_float16\">\n",
            "block3b_expand_conv | False | float32 | <Policy \"mixed_float16\">\n",
            "block3b_expand_bn | False | float32 | <Policy \"mixed_float16\">\n",
            "block3b_expand_activation | False | float32 | <Policy \"mixed_float16\">\n",
            "block3b_dwconv | False | float32 | <Policy \"mixed_float16\">\n",
            "block3b_bn | False | float32 | <Policy \"mixed_float16\">\n",
            "block3b_activation | False | float32 | <Policy \"mixed_float16\">\n",
            "block3b_se_squeeze | False | float32 | <Policy \"mixed_float16\">\n",
            "block3b_se_reshape | False | float32 | <Policy \"mixed_float16\">\n",
            "block3b_se_reduce | False | float32 | <Policy \"mixed_float16\">\n",
            "block3b_se_expand | False | float32 | <Policy \"mixed_float16\">\n",
            "block3b_se_excite | False | float32 | <Policy \"mixed_float16\">\n",
            "block3b_project_conv | False | float32 | <Policy \"mixed_float16\">\n",
            "block3b_project_bn | False | float32 | <Policy \"mixed_float16\">\n",
            "block3b_drop | False | float32 | <Policy \"mixed_float16\">\n",
            "block3b_add | False | float32 | <Policy \"mixed_float16\">\n",
            "block4a_expand_conv | False | float32 | <Policy \"mixed_float16\">\n",
            "block4a_expand_bn | False | float32 | <Policy \"mixed_float16\">\n",
            "block4a_expand_activation | False | float32 | <Policy \"mixed_float16\">\n",
            "block4a_dwconv_pad | False | float32 | <Policy \"mixed_float16\">\n",
            "block4a_dwconv | False | float32 | <Policy \"mixed_float16\">\n",
            "block4a_bn | False | float32 | <Policy \"mixed_float16\">\n",
            "block4a_activation | False | float32 | <Policy \"mixed_float16\">\n",
            "block4a_se_squeeze | False | float32 | <Policy \"mixed_float16\">\n",
            "block4a_se_reshape | False | float32 | <Policy \"mixed_float16\">\n",
            "block4a_se_reduce | False | float32 | <Policy \"mixed_float16\">\n",
            "block4a_se_expand | False | float32 | <Policy \"mixed_float16\">\n",
            "block4a_se_excite | False | float32 | <Policy \"mixed_float16\">\n",
            "block4a_project_conv | False | float32 | <Policy \"mixed_float16\">\n",
            "block4a_project_bn | False | float32 | <Policy \"mixed_float16\">\n",
            "block4b_expand_conv | False | float32 | <Policy \"mixed_float16\">\n",
            "block4b_expand_bn | False | float32 | <Policy \"mixed_float16\">\n",
            "block4b_expand_activation | False | float32 | <Policy \"mixed_float16\">\n",
            "block4b_dwconv | False | float32 | <Policy \"mixed_float16\">\n",
            "block4b_bn | False | float32 | <Policy \"mixed_float16\">\n",
            "block4b_activation | False | float32 | <Policy \"mixed_float16\">\n",
            "block4b_se_squeeze | False | float32 | <Policy \"mixed_float16\">\n",
            "block4b_se_reshape | False | float32 | <Policy \"mixed_float16\">\n",
            "block4b_se_reduce | False | float32 | <Policy \"mixed_float16\">\n",
            "block4b_se_expand | False | float32 | <Policy \"mixed_float16\">\n",
            "block4b_se_excite | False | float32 | <Policy \"mixed_float16\">\n",
            "block4b_project_conv | False | float32 | <Policy \"mixed_float16\">\n",
            "block4b_project_bn | False | float32 | <Policy \"mixed_float16\">\n",
            "block4b_drop | False | float32 | <Policy \"mixed_float16\">\n",
            "block4b_add | False | float32 | <Policy \"mixed_float16\">\n",
            "block4c_expand_conv | False | float32 | <Policy \"mixed_float16\">\n",
            "block4c_expand_bn | False | float32 | <Policy \"mixed_float16\">\n",
            "block4c_expand_activation | False | float32 | <Policy \"mixed_float16\">\n",
            "block4c_dwconv | False | float32 | <Policy \"mixed_float16\">\n",
            "block4c_bn | False | float32 | <Policy \"mixed_float16\">\n",
            "block4c_activation | False | float32 | <Policy \"mixed_float16\">\n",
            "block4c_se_squeeze | False | float32 | <Policy \"mixed_float16\">\n",
            "block4c_se_reshape | False | float32 | <Policy \"mixed_float16\">\n",
            "block4c_se_reduce | False | float32 | <Policy \"mixed_float16\">\n",
            "block4c_se_expand | False | float32 | <Policy \"mixed_float16\">\n",
            "block4c_se_excite | False | float32 | <Policy \"mixed_float16\">\n",
            "block4c_project_conv | False | float32 | <Policy \"mixed_float16\">\n",
            "block4c_project_bn | False | float32 | <Policy \"mixed_float16\">\n",
            "block4c_drop | False | float32 | <Policy \"mixed_float16\">\n",
            "block4c_add | False | float32 | <Policy \"mixed_float16\">\n",
            "block5a_expand_conv | False | float32 | <Policy \"mixed_float16\">\n",
            "block5a_expand_bn | False | float32 | <Policy \"mixed_float16\">\n",
            "block5a_expand_activation | False | float32 | <Policy \"mixed_float16\">\n",
            "block5a_dwconv | False | float32 | <Policy \"mixed_float16\">\n",
            "block5a_bn | False | float32 | <Policy \"mixed_float16\">\n",
            "block5a_activation | False | float32 | <Policy \"mixed_float16\">\n",
            "block5a_se_squeeze | False | float32 | <Policy \"mixed_float16\">\n",
            "block5a_se_reshape | False | float32 | <Policy \"mixed_float16\">\n",
            "block5a_se_reduce | False | float32 | <Policy \"mixed_float16\">\n",
            "block5a_se_expand | False | float32 | <Policy \"mixed_float16\">\n",
            "block5a_se_excite | False | float32 | <Policy \"mixed_float16\">\n",
            "block5a_project_conv | False | float32 | <Policy \"mixed_float16\">\n",
            "block5a_project_bn | False | float32 | <Policy \"mixed_float16\">\n",
            "block5b_expand_conv | False | float32 | <Policy \"mixed_float16\">\n",
            "block5b_expand_bn | False | float32 | <Policy \"mixed_float16\">\n",
            "block5b_expand_activation | False | float32 | <Policy \"mixed_float16\">\n",
            "block5b_dwconv | False | float32 | <Policy \"mixed_float16\">\n",
            "block5b_bn | False | float32 | <Policy \"mixed_float16\">\n",
            "block5b_activation | False | float32 | <Policy \"mixed_float16\">\n",
            "block5b_se_squeeze | False | float32 | <Policy \"mixed_float16\">\n",
            "block5b_se_reshape | False | float32 | <Policy \"mixed_float16\">\n",
            "block5b_se_reduce | False | float32 | <Policy \"mixed_float16\">\n",
            "block5b_se_expand | False | float32 | <Policy \"mixed_float16\">\n",
            "block5b_se_excite | False | float32 | <Policy \"mixed_float16\">\n",
            "block5b_project_conv | False | float32 | <Policy \"mixed_float16\">\n",
            "block5b_project_bn | False | float32 | <Policy \"mixed_float16\">\n",
            "block5b_drop | False | float32 | <Policy \"mixed_float16\">\n",
            "block5b_add | False | float32 | <Policy \"mixed_float16\">\n",
            "block5c_expand_conv | False | float32 | <Policy \"mixed_float16\">\n",
            "block5c_expand_bn | False | float32 | <Policy \"mixed_float16\">\n",
            "block5c_expand_activation | False | float32 | <Policy \"mixed_float16\">\n",
            "block5c_dwconv | False | float32 | <Policy \"mixed_float16\">\n",
            "block5c_bn | False | float32 | <Policy \"mixed_float16\">\n",
            "block5c_activation | False | float32 | <Policy \"mixed_float16\">\n",
            "block5c_se_squeeze | False | float32 | <Policy \"mixed_float16\">\n",
            "block5c_se_reshape | False | float32 | <Policy \"mixed_float16\">\n",
            "block5c_se_reduce | False | float32 | <Policy \"mixed_float16\">\n",
            "block5c_se_expand | False | float32 | <Policy \"mixed_float16\">\n",
            "block5c_se_excite | False | float32 | <Policy \"mixed_float16\">\n",
            "block5c_project_conv | False | float32 | <Policy \"mixed_float16\">\n",
            "block5c_project_bn | False | float32 | <Policy \"mixed_float16\">\n",
            "block5c_drop | False | float32 | <Policy \"mixed_float16\">\n",
            "block5c_add | False | float32 | <Policy \"mixed_float16\">\n",
            "block6a_expand_conv | False | float32 | <Policy \"mixed_float16\">\n",
            "block6a_expand_bn | False | float32 | <Policy \"mixed_float16\">\n",
            "block6a_expand_activation | False | float32 | <Policy \"mixed_float16\">\n",
            "block6a_dwconv_pad | False | float32 | <Policy \"mixed_float16\">\n",
            "block6a_dwconv | False | float32 | <Policy \"mixed_float16\">\n",
            "block6a_bn | False | float32 | <Policy \"mixed_float16\">\n",
            "block6a_activation | False | float32 | <Policy \"mixed_float16\">\n",
            "block6a_se_squeeze | False | float32 | <Policy \"mixed_float16\">\n",
            "block6a_se_reshape | False | float32 | <Policy \"mixed_float16\">\n",
            "block6a_se_reduce | False | float32 | <Policy \"mixed_float16\">\n",
            "block6a_se_expand | False | float32 | <Policy \"mixed_float16\">\n",
            "block6a_se_excite | False | float32 | <Policy \"mixed_float16\">\n",
            "block6a_project_conv | False | float32 | <Policy \"mixed_float16\">\n",
            "block6a_project_bn | False | float32 | <Policy \"mixed_float16\">\n",
            "block6b_expand_conv | False | float32 | <Policy \"mixed_float16\">\n",
            "block6b_expand_bn | False | float32 | <Policy \"mixed_float16\">\n",
            "block6b_expand_activation | False | float32 | <Policy \"mixed_float16\">\n",
            "block6b_dwconv | False | float32 | <Policy \"mixed_float16\">\n",
            "block6b_bn | False | float32 | <Policy \"mixed_float16\">\n",
            "block6b_activation | False | float32 | <Policy \"mixed_float16\">\n",
            "block6b_se_squeeze | False | float32 | <Policy \"mixed_float16\">\n",
            "block6b_se_reshape | False | float32 | <Policy \"mixed_float16\">\n",
            "block6b_se_reduce | False | float32 | <Policy \"mixed_float16\">\n",
            "block6b_se_expand | False | float32 | <Policy \"mixed_float16\">\n",
            "block6b_se_excite | False | float32 | <Policy \"mixed_float16\">\n",
            "block6b_project_conv | False | float32 | <Policy \"mixed_float16\">\n",
            "block6b_project_bn | False | float32 | <Policy \"mixed_float16\">\n",
            "block6b_drop | False | float32 | <Policy \"mixed_float16\">\n",
            "block6b_add | False | float32 | <Policy \"mixed_float16\">\n",
            "block6c_expand_conv | False | float32 | <Policy \"mixed_float16\">\n",
            "block6c_expand_bn | False | float32 | <Policy \"mixed_float16\">\n",
            "block6c_expand_activation | False | float32 | <Policy \"mixed_float16\">\n",
            "block6c_dwconv | False | float32 | <Policy \"mixed_float16\">\n",
            "block6c_bn | False | float32 | <Policy \"mixed_float16\">\n",
            "block6c_activation | False | float32 | <Policy \"mixed_float16\">\n",
            "block6c_se_squeeze | False | float32 | <Policy \"mixed_float16\">\n",
            "block6c_se_reshape | False | float32 | <Policy \"mixed_float16\">\n",
            "block6c_se_reduce | False | float32 | <Policy \"mixed_float16\">\n",
            "block6c_se_expand | False | float32 | <Policy \"mixed_float16\">\n",
            "block6c_se_excite | False | float32 | <Policy \"mixed_float16\">\n",
            "block6c_project_conv | False | float32 | <Policy \"mixed_float16\">\n",
            "block6c_project_bn | False | float32 | <Policy \"mixed_float16\">\n",
            "block6c_drop | False | float32 | <Policy \"mixed_float16\">\n",
            "block6c_add | False | float32 | <Policy \"mixed_float16\">\n",
            "block6d_expand_conv | False | float32 | <Policy \"mixed_float16\">\n",
            "block6d_expand_bn | False | float32 | <Policy \"mixed_float16\">\n",
            "block6d_expand_activation | False | float32 | <Policy \"mixed_float16\">\n",
            "block6d_dwconv | False | float32 | <Policy \"mixed_float16\">\n",
            "block6d_bn | False | float32 | <Policy \"mixed_float16\">\n",
            "block6d_activation | False | float32 | <Policy \"mixed_float16\">\n",
            "block6d_se_squeeze | False | float32 | <Policy \"mixed_float16\">\n",
            "block6d_se_reshape | False | float32 | <Policy \"mixed_float16\">\n",
            "block6d_se_reduce | False | float32 | <Policy \"mixed_float16\">\n",
            "block6d_se_expand | False | float32 | <Policy \"mixed_float16\">\n",
            "block6d_se_excite | False | float32 | <Policy \"mixed_float16\">\n",
            "block6d_project_conv | False | float32 | <Policy \"mixed_float16\">\n",
            "block6d_project_bn | False | float32 | <Policy \"mixed_float16\">\n",
            "block6d_drop | False | float32 | <Policy \"mixed_float16\">\n",
            "block6d_add | False | float32 | <Policy \"mixed_float16\">\n",
            "block7a_expand_conv | False | float32 | <Policy \"mixed_float16\">\n",
            "block7a_expand_bn | False | float32 | <Policy \"mixed_float16\">\n",
            "block7a_expand_activation | False | float32 | <Policy \"mixed_float16\">\n",
            "block7a_dwconv | False | float32 | <Policy \"mixed_float16\">\n",
            "block7a_bn | False | float32 | <Policy \"mixed_float16\">\n",
            "block7a_activation | False | float32 | <Policy \"mixed_float16\">\n",
            "block7a_se_squeeze | False | float32 | <Policy \"mixed_float16\">\n",
            "block7a_se_reshape | False | float32 | <Policy \"mixed_float16\">\n",
            "block7a_se_reduce | False | float32 | <Policy \"mixed_float16\">\n",
            "block7a_se_expand | False | float32 | <Policy \"mixed_float16\">\n",
            "block7a_se_excite | False | float32 | <Policy \"mixed_float16\">\n",
            "block7a_project_conv | False | float32 | <Policy \"mixed_float16\">\n",
            "block7a_project_bn | False | float32 | <Policy \"mixed_float16\">\n",
            "top_conv | False | float32 | <Policy \"mixed_float16\">\n",
            "top_bn | False | float32 | <Policy \"mixed_float16\">\n",
            "top_activation | False | float32 | <Policy \"mixed_float16\">\n"
          ]
        }
      ],
      "source": [
        "# Check the layers in the base model and see what dtype policy they're using\n",
        "for layer in loaded_model.layers[1].layers:\n",
        "    print(layer.name, \"|\", layer.trainable, \"|\", layer.dtype, \"|\", layer.dtype_policy)"
      ]
    },
    {
      "cell_type": "code",
      "execution_count": 544,
      "metadata": {},
      "outputs": [
        {
          "name": "stdout",
          "output_type": "stream",
          "text": [
            "790/790 - 10s - loss: 1.0972 - accuracy: 0.7069 - 10s/epoch - 12ms/step\n"
          ]
        }
      ],
      "source": [
        "# Check loaded model performance (this should be the same as results_feature_extract_model)\n",
        "results_loaded_model = loaded_model.evaluate(test_data, verbose=2)"
      ]
    },
    {
      "cell_type": "code",
      "execution_count": 545,
      "metadata": {},
      "outputs": [],
      "source": [
        "# The loaded model's results should equal (or at least be very close) to the model's results prior to saving\n",
        "# Note: this will only work if you've instatiated results variables \n",
        "assert np.isclose(results_feature_extract_model ,results_loaded_model).all(), \"Loaded weights results are not close to original model.\""
      ]
    },
    {
      "attachments": {},
      "cell_type": "markdown",
      "metadata": {},
      "source": [
        "## 2.2. <a id='toc2_2_'></a>[TODO: Preparing our model's layers for fine-tuning](#toc0_)\n",
        "\n",
        "**Next:** Fine-tune the feature extraction model to beat the [DeepFood paper](https://arxiv.org/pdf/1606.05675.pdf).\n",
        "\n",
        "Like all good cooking shows, I've saved a model I prepared earlier (the feature extraction model from above) to Google Storage.\n",
        "\n",
        "You can download it to make sure you're using the same model as originall trained going forward."
      ]
    },
    {
      "cell_type": "code",
      "execution_count": 546,
      "metadata": {},
      "outputs": [
        {
          "name": "stdout",
          "output_type": "stream",
          "text": [
            "/bin/bash: /home/cosmo/anaconda3/envs/TensorFlow_2.8.3__Python_3.9/lib/libtinfo.so.6: no version information available (required by /bin/bash)\n",
            "--2023-06-16 14:49:11--  https://storage.googleapis.com/ztm_tf_course/food_vision/07_efficientnetb0_feature_extract_model_mixed_precision.zip\n",
            "正在查找主機 storage.googleapis.com (storage.googleapis.com)... 2404:6800:4012:2::2010, 2404:6800:4012:3::2010, 2404:6800:4012:4::2010, ...\n",
            "正在連接 storage.googleapis.com (storage.googleapis.com)|2404:6800:4012:2::2010|:443... 連上了。\n",
            "已送出 HTTP 要求，正在等候回應... 200 OK\n",
            "長度: 16976857 (16M) [application/zip]\n",
            "儲存到：`07_efficientnetb0_feature_extract_model_mixed_precision.zip'\n",
            "\n",
            "07_efficientnetb0_f 100%[===================>]  16.19M  15.4MB/s    於 1.0s     \n",
            "\n",
            "2023-06-16 14:49:13 (15.4 MB/s) - 已儲存 `07_efficientnetb0_feature_extract_model_mixed_precision.zip' [16976857/16976857]\n",
            "\n"
          ]
        }
      ],
      "source": [
        "# Download the saved model from Google Storage\n",
        "!wget https://storage.googleapis.com/ztm_tf_course/food_vision/07_efficientnetb0_feature_extract_model_mixed_precision.zip"
      ]
    },
    {
      "cell_type": "code",
      "execution_count": 547,
      "metadata": {},
      "outputs": [
        {
          "name": "stdout",
          "output_type": "stream",
          "text": [
            "/bin/bash: /home/cosmo/anaconda3/envs/TensorFlow_2.8.3__Python_3.9/lib/libtinfo.so.6: no version information available (required by /bin/bash)\n",
            "mkdir: 無法建立 「saved_model」 目錄: 檔案已存在\n"
          ]
        }
      ],
      "source": [
        "# Unzip the SavedModel downloaded from Google Stroage\n",
        "downloaded_gs_model_path = \"saved_model\"\n",
        "!mkdir $downloaded_gs_model_path # create new dir to store downloaded feature extraction model\n",
        "\n",
        "folder_name = \"07_efficientnetb0_feature_extract_model_mixed_precision\"\n",
        "\n",
        "import os\n",
        "if not os.path.exists(os.path.join(downloaded_gs_model_path, folder_name)):\n",
        "    !unzip 07_efficientnetb0_feature_extract_model_mixed_precision.zip -d $downloaded_gs_model_path"
      ]
    },
    {
      "cell_type": "code",
      "execution_count": 548,
      "metadata": {},
      "outputs": [
        {
          "name": "stdout",
          "output_type": "stream",
          "text": [
            "/bin/bash: /home/cosmo/anaconda3/envs/TensorFlow_2.8.3__Python_3.9/lib/libtinfo.so.6: no version information available (required by /bin/bash)\n"
          ]
        }
      ],
      "source": [
        "# Remove zip file\n",
        "!rm 07_efficientnetb0_feature_extract_model_mixed_precision.zip"
      ]
    },
    {
      "cell_type": "code",
      "execution_count": 550,
      "metadata": {},
      "outputs": [],
      "source": [
        "# Load and evaluate downloaded GS model \n",
        "efficientnetb0_feature_extract_model_mixed_precision_path = \\\n",
        "\"saved_model/07_efficientnetb0_feature_extract_model_mixed_precision\"\n",
        "\n",
        "efficientnetb0_mixed_precision_model = tf.keras.models.load_model(efficientnetb0_feature_extract_model_mixed_precision_path)\n",
        "\n",
        "# clear output\n",
        "from IPython.display import clear_output \n",
        "clear_output()"
      ]
    },
    {
      "cell_type": "code",
      "execution_count": 551,
      "metadata": {},
      "outputs": [
        {
          "name": "stdout",
          "output_type": "stream",
          "text": [
            "Model: \"model\"\n",
            "_________________________________________________________________\n",
            " Layer (type)                Output Shape              Param #   \n",
            "=================================================================\n",
            " input_layer (InputLayer)    [(None, 224, 224, 3)]     0         \n",
            "                                                                 \n",
            " efficientnetb0 (Functional)  (None, None, None, 1280)  4049571  \n",
            "                                                                 \n",
            " pooling_layer (GlobalAverag  (None, 1280)             0         \n",
            " ePooling2D)                                                     \n",
            "                                                                 \n",
            " dense (Dense)               (None, 101)               129381    \n",
            "                                                                 \n",
            " softmax_float32 (Activation  (None, 101)              0         \n",
            " )                                                               \n",
            "                                                                 \n",
            "=================================================================\n",
            "Total params: 4,178,952\n",
            "Trainable params: 129,381\n",
            "Non-trainable params: 4,049,571\n",
            "_________________________________________________________________\n"
          ]
        }
      ],
      "source": [
        "# Get a summary of the downloaded model\n",
        "efficientnetb0_mixed_precision_model.summary()"
      ]
    },
    {
      "cell_type": "code",
      "execution_count": 552,
      "metadata": {},
      "outputs": [
        {
          "name": "stdout",
          "output_type": "stream",
          "text": [
            "790/790 [==============================] - 10s 12ms/step - loss: 1.0881 - accuracy: 0.7065\n"
          ]
        },
        {
          "data": {
            "text/plain": [
              "[1.08810555934906, 0.7065346240997314]"
            ]
          },
          "execution_count": 552,
          "metadata": {},
          "output_type": "execute_result"
        }
      ],
      "source": [
        "# How does the loaded model perform? (evaluate it on the test dataset)\n",
        "efficientnetb0_mixed_precision_model.evaluate(test_data)"
      ]
    },
    {
      "cell_type": "code",
      "execution_count": 553,
      "metadata": {},
      "outputs": [
        {
          "name": "stdout",
          "output_type": "stream",
          "text": [
            "input_layer | True | float32 | <Policy \"float32\">\n",
            "efficientnetb0 | True | float32 | <Policy \"mixed_float16\">\n",
            "pooling_layer | True | float32 | <Policy \"mixed_float16\">\n",
            "dense | True | float32 | <Policy \"mixed_float16\">\n",
            "softmax_float32 | True | float32 | <Policy \"float32\">\n"
          ]
        }
      ],
      "source": [
        "# Set all of the layers .trainable variable in the loaded model to True (so they're unfrozen)\n",
        "# for i in range(len(efficientnetb0_mixed_precision_model.layers)):\n",
        "#     efficientnetb0_mixed_precision_model.layers[i].trainable\n",
        "\n",
        "for layer in efficientnetb0_mixed_precision_model.layers:\n",
        "  layer.trainable = True # set all layers to trainable\n",
        "  print(layer.name, \"|\", layer.trainable, \"|\", layer.dtype, \"|\", layer.dtype_policy)"
      ]
    },
    {
      "cell_type": "code",
      "execution_count": 554,
      "metadata": {},
      "outputs": [
        {
          "name": "stdout",
          "output_type": "stream",
          "text": [
            "input_layer | True | float32 | <Policy \"float32\">\n",
            "efficientnetb0 | True | float32 | <Policy \"mixed_float16\">\n",
            "pooling_layer | True | float32 | <Policy \"mixed_float16\">\n",
            "dense | True | float32 | <Policy \"mixed_float16\">\n",
            "softmax_float32 | True | float32 | <Policy \"float32\">\n"
          ]
        }
      ],
      "source": [
        "# Check to see what dtype_policy of the layers in your loaded model are\n",
        "for layer in efficientnetb0_mixed_precision_model.layers:\n",
        "    print(layer.name, \"|\", layer.trainable, \"|\", layer.dtype, \"|\", layer.dtype_policy)"
      ]
    },
    {
      "cell_type": "code",
      "execution_count": 555,
      "metadata": {},
      "outputs": [
        {
          "name": "stdout",
          "output_type": "stream",
          "text": [
            "input_1 | True | float32 | <Policy \"float32\">\n",
            "rescaling | True | float32 | <Policy \"mixed_float16\">\n",
            "normalization | True | float32 | <Policy \"float32\">\n",
            "stem_conv_pad | True | float32 | <Policy \"mixed_float16\">\n",
            "stem_conv | True | float32 | <Policy \"mixed_float16\">\n",
            "stem_bn | True | float32 | <Policy \"mixed_float16\">\n",
            "stem_activation | True | float32 | <Policy \"mixed_float16\">\n",
            "block1a_dwconv | True | float32 | <Policy \"mixed_float16\">\n",
            "block1a_bn | True | float32 | <Policy \"mixed_float16\">\n",
            "block1a_activation | True | float32 | <Policy \"mixed_float16\">\n",
            "block1a_se_squeeze | True | float32 | <Policy \"mixed_float16\">\n",
            "block1a_se_reshape | True | float32 | <Policy \"mixed_float16\">\n",
            "block1a_se_reduce | True | float32 | <Policy \"mixed_float16\">\n",
            "block1a_se_expand | True | float32 | <Policy \"mixed_float16\">\n",
            "block1a_se_excite | True | float32 | <Policy \"mixed_float16\">\n",
            "block1a_project_conv | True | float32 | <Policy \"mixed_float16\">\n",
            "block1a_project_bn | True | float32 | <Policy \"mixed_float16\">\n",
            "block2a_expand_conv | True | float32 | <Policy \"mixed_float16\">\n",
            "block2a_expand_bn | True | float32 | <Policy \"mixed_float16\">\n",
            "block2a_expand_activation | True | float32 | <Policy \"mixed_float16\">\n"
          ]
        }
      ],
      "source": [
        "# Check the layers in the base model and see what dtype policy they're using\n",
        "for layer in efficientnetb0_mixed_precision_model.layers[1].layers[:20]:\n",
        "    print(layer.name, \"|\", layer.trainable, \"|\", layer.dtype, \"|\", layer.dtype_policy)"
      ]
    },
    {
      "cell_type": "code",
      "execution_count": 556,
      "metadata": {},
      "outputs": [],
      "source": [
        "# Setup EarlyStopping callback to stop training if model's val_loss doesn't improve for 3 epochs\n",
        "# Monitor the val_loss and stop training if it doesn't improve for 3 epochs\n",
        "# See: https://www.tensorflow.org/api_docs/python/tf/keras/callbacks/EarlyStopping for more\n",
        "# YOUR_CODE_HERE\n",
        "EarlyStopping = tf.keras.callbacks.EarlyStopping(   monitor='val_loss',\n",
        "                                                    min_delta=0,\n",
        "                                                    patience=3,\n",
        "                                                    verbose=0,\n",
        "                                                    mode='auto',\n",
        "                                                    baseline=None,\n",
        "                                                    restore_best_weights=True,\n",
        "                                                )\n",
        "\n",
        "                                                \n",
        "# Create ModelCheckpoint callback to save best model during fine-tuning\n",
        "# Save the best model only\n",
        "# Monitor val_loss while training and save the best model (lowest val_loss)\n",
        "# See: https://www.tensorflow.org/api_docs/python/tf/keras/callbacks/ModelCheckpoint for more\n",
        "# YOUR_CODE_HERE\n",
        "# Create ModelCheckpoint callback to save a model's progress during training \n",
        "checkpoint_path = \"ckeckpoint/efficientnetb0_mixed_precision_model/cp.ckpt\"\n",
        "model_checkpoint = tf.keras.callbacks.ModelCheckpoint(filepath = checkpoint_path, \n",
        "                                    monitor = 'val_loss',\n",
        "                                    verbose = 0,   # don't print whether or not model is being saved\n",
        "                                    save_best_only = True,\n",
        "                                    save_weights_only = True,\n",
        "                                    mode = 'auto',\n",
        "                                    save_freq = 'epoch',\n",
        "                                    options = None,\n",
        "                                    initial_value_threshold = None,\n",
        "                                   )"
      ]
    },
    {
      "cell_type": "code",
      "execution_count": 557,
      "metadata": {},
      "outputs": [],
      "source": [
        "# Creating learning rate reduction \n",
        "reduce_lr = tf.keras.callbacks.ReduceLROnPlateau(monitor=\"val_loss\",  \n",
        "                                                 factor=0.2, # multiply the learning rate by 0.2 (reduce by 5x)\n",
        "                                                 patience=2,\n",
        "                                                 verbose=1, # print out when learning rate goes down \n",
        "                                                 min_lr=1e-7)"
      ]
    },
    {
      "cell_type": "code",
      "execution_count": 558,
      "metadata": {},
      "outputs": [
        {
          "name": "stderr",
          "output_type": "stream",
          "text": [
            "/home/cosmo/anaconda3/envs/TensorFlow_2.8.3__Python_3.9/lib/python3.9/site-packages/keras/optimizer_v2/adam.py:105: UserWarning: The `lr` argument is deprecated, use `learning_rate` instead.\n",
            "  super(Adam, self).__init__(name, **kwargs)\n"
          ]
        }
      ],
      "source": [
        "# Compile the model ready for fine-tuning\n",
        "# Use the Adam optimizer with a 10x lower than default learning rate\n",
        "# YOUR_CODE_HERE\n",
        "model.compile(loss=\"sparse_categorical_crossentropy\",\n",
        "              optimizer=tf.keras.optimizers.Adam(lr=0.0001), # learning rate lowered by 10x\n",
        "              metrics=[\"accuracy\"])"
      ]
    },
    {
      "cell_type": "code",
      "execution_count": 559,
      "metadata": {},
      "outputs": [
        {
          "name": "stdout",
          "output_type": "stream",
          "text": [
            "Saving TensorBoard log files to: training_logs/efficientnetb0_mixed_precision_model_fine_tune/20230616-184036\n",
            "Epoch 1/100\n"
          ]
        },
        {
          "name": "stdout",
          "output_type": "stream",
          "text": [
            "2368/2368 - 48s - loss: 0.6583 - accuracy: 0.8345 - val_loss: 1.0612 - val_accuracy: 0.7161 - lr: 1.0000e-04 - 48s/epoch - 20ms/step\n",
            "Epoch 2/100\n",
            "2368/2368 - 45s - loss: 0.6477 - accuracy: 0.8389 - val_loss: 1.0594 - val_accuracy: 0.7169 - lr: 1.0000e-04 - 45s/epoch - 19ms/step\n",
            "Epoch 3/100\n",
            "2368/2368 - 44s - loss: 0.6427 - accuracy: 0.8400 - val_loss: 1.0591 - val_accuracy: 0.7182 - lr: 1.0000e-04 - 44s/epoch - 19ms/step\n",
            "Epoch 4/100\n",
            "2368/2368 - 45s - loss: 0.6387 - accuracy: 0.8420 - val_loss: 1.0596 - val_accuracy: 0.7169 - lr: 1.0000e-04 - 45s/epoch - 19ms/step\n",
            "Epoch 5/100\n",
            "\n",
            "Epoch 5: ReduceLROnPlateau reducing learning rate to 1.9999999494757503e-05.\n",
            "2368/2368 - 45s - loss: 0.6354 - accuracy: 0.8430 - val_loss: 1.0600 - val_accuracy: 0.7161 - lr: 1.0000e-04 - 45s/epoch - 19ms/step\n",
            "Epoch 6/100\n",
            "2368/2368 - 46s - loss: 0.6243 - accuracy: 0.8464 - val_loss: 1.0582 - val_accuracy: 0.7193 - lr: 2.0000e-05 - 46s/epoch - 19ms/step\n",
            "Epoch 7/100\n",
            "2368/2368 - 45s - loss: 0.6231 - accuracy: 0.8470 - val_loss: 1.0581 - val_accuracy: 0.7185 - lr: 2.0000e-05 - 45s/epoch - 19ms/step\n",
            "Epoch 8/100\n",
            "2368/2368 - 46s - loss: 0.6224 - accuracy: 0.8470 - val_loss: 1.0582 - val_accuracy: 0.7193 - lr: 2.0000e-05 - 46s/epoch - 19ms/step\n",
            "Epoch 9/100\n",
            "\n",
            "Epoch 9: ReduceLROnPlateau reducing learning rate to 3.999999898951501e-06.\n",
            "2368/2368 - 45s - loss: 0.6217 - accuracy: 0.8472 - val_loss: 1.0583 - val_accuracy: 0.7188 - lr: 2.0000e-05 - 45s/epoch - 19ms/step\n",
            "Epoch 10/100\n",
            "2368/2368 - 46s - loss: 0.6192 - accuracy: 0.8484 - val_loss: 1.0582 - val_accuracy: 0.7182 - lr: 4.0000e-06 - 46s/epoch - 19ms/step\n"
          ]
        }
      ],
      "source": [
        "# Start to fine-tune (all layers)\n",
        "# Use 100 epochs as the default\n",
        "# Validate on 15% of the test_data\n",
        "# Use the create_tensorboard_callback, ModelCheckpoint and EarlyStopping callbacks you created eaelier\n",
        "# YOUR_CODE_HERE\n",
        "\n",
        "# Fine-tune for 5 more epochs\n",
        "fine_tune_epochs = 100 # model has already done 5 epochs (feature extraction), this is the total number of epochs we're after (5 + 5 = 10)\n",
        "\n",
        "# Fine-tune our model\n",
        "history_efficientnetb0_mixed_precision_model_fine_tune =  model.fit(train_data,\n",
        "                        epochs=fine_tune_epochs,\n",
        "                        steps_per_epoch=len(train_data),\n",
        "                        validation_data=test_data,\n",
        "                        validation_steps=int(0.15 * len(test_data)),\n",
        "                        verbose = 2,\n",
        "                        #initial_epoch=history_all_classes_10_percent.epoch[-1],\n",
        "                        callbacks=[model_checkpoint,\n",
        "                                    EarlyStopping,\n",
        "                                    reduce_lr,\n",
        "                                    create_tensorboard_callback(dir_name=\"training_logs\", \n",
        "                                        experiment_name=\"efficientnetb0_mixed_precision_model_fine_tune\")])\n"
      ]
    },
    {
      "attachments": {},
      "cell_type": "markdown",
      "metadata": {},
      "source": [
        "> 🔑 **Note:** If you didn't use mixed precision or use techniques such as [`prefetch()`](https://www.tensorflow.org/api_docs/python/tf/data/Dataset#prefetch) in the *Batch & prepare datasets* section, your model fine-tuning probably takes up to 2.5-3x longer per epoch (see the output below for an example).\n",
        "\n",
        "| | Prefetch and mixed precision | No prefetch and no mixed precision |\n",
        "|-----|-----|-----|\n",
        "| Time per epoch | ~280-300s | ~1127-1397s |\n",
        "\n",
        "*Results from fine-tuning 🍔👁 Food Vision Big™ on Food101 dataset using an EfficienetNetB0 backbone using a Google Colab Tesla T4 GPU.*\n",
        "\n",
        "```\n",
        "Saving TensorBoard log files to: training_logs/efficientB0_101_classes_all_data_fine_tuning/20200928-013008\n",
        "Epoch 1/100\n",
        "2368/2368 [==============================] - 1397s 590ms/step - loss: 1.2068 - accuracy: 0.6820 - val_loss: 1.1623 - val_accuracy: 0.6894\n",
        "Epoch 2/100\n",
        "2368/2368 [==============================] - 1193s 504ms/step - loss: 0.9459 - accuracy: 0.7444 - val_loss: 1.1549 - val_accuracy: 0.6872\n",
        "Epoch 3/100\n",
        "2368/2368 [==============================] - 1143s 482ms/step - loss: 0.7848 - accuracy: 0.7838 - val_loss: 1.0402 - val_accuracy: 0.7142\n",
        "Epoch 4/100\n",
        "2368/2368 [==============================] - 1127s 476ms/step - loss: 0.6599 - accuracy: 0.8149 - val_loss: 0.9599 - val_accuracy: 0.7373\n",
        "```\n",
        "*Example fine-tuning time for non-prefetched data as well as non-mixed precision training (~2.5-3x longer per epoch).*\n",
        "\n",
        "Let's make sure we save our model before we start evaluating it."
      ]
    },
    {
      "attachments": {},
      "cell_type": "markdown",
      "metadata": {},
      "source": [
        "From the above, does it look like our model is overfitting or underfitting? \n",
        "\n",
        "Remember, if the training loss is significantly lower than the validation loss, it's a hint that the model has overfit the training data and not learned generalizable patterns to unseen data.\n",
        "\n",
        "But it does look like our model has gained a few performance points from fine-tuning, let's evaluate on the whole test dataset and see if managed to beat the [DeepFood paper's](https://arxiv.org/abs/1606.05675) result of 77.4% accuracy."
      ]
    },
    {
      "cell_type": "code",
      "execution_count": 560,
      "metadata": {},
      "outputs": [
        {
          "name": "stdout",
          "output_type": "stream",
          "text": [
            "INFO:tensorflow:Assets written to: saved_model/efficientnetb0_mixed_precision_model_fine_tune/assets\n"
          ]
        },
        {
          "name": "stderr",
          "output_type": "stream",
          "text": [
            "INFO:tensorflow:Assets written to: saved_model/efficientnetb0_mixed_precision_model_fine_tune/assets\n"
          ]
        }
      ],
      "source": [
        "# Save model locally (note: if you're using Google Colab and you save your model locally, it will be deleted when your Google Colab session ends)\n",
        "efficientnetb0_mixed_precision_model_fine_tune_path = \"saved_model/efficientnetb0_mixed_precision_model_fine_tune\"\n",
        "model.save(efficientnetb0_mixed_precision_model_fine_tune_path)"
      ]
    },
    {
      "cell_type": "code",
      "execution_count": 561,
      "metadata": {},
      "outputs": [
        {
          "name": "stdout",
          "output_type": "stream",
          "text": [
            "790/790 [==============================] - 9s 12ms/step - loss: 1.0642 - accuracy: 0.7143\n"
          ]
        },
        {
          "data": {
            "text/plain": [
              "[1.0641742944717407, 0.7142574191093445]"
            ]
          },
          "execution_count": 561,
          "metadata": {},
          "output_type": "execute_result"
        }
      ],
      "source": [
        "# Evaluate mixed precision trained fine-tuned model (this should beat DeepFood's 77.4% top-1 accuracy)\n",
        "model.evaluate(test_data)"
      ]
    },
    {
      "attachments": {},
      "cell_type": "markdown",
      "metadata": {},
      "source": [
        "## 2.3. <a id='toc2_3_'></a>[TODO: View training results on TensorBoard](#toc0_)\n",
        "\n",
        "**To do:** Upload and view your model's training results to TensorBoard.dev and view them.\n",
        "\n",
        "See https://tensorboard.dev/ for more."
      ]
    },
    {
      "cell_type": "code",
      "execution_count": 562,
      "metadata": {},
      "outputs": [
        {
          "name": "stdout",
          "output_type": "stream",
          "text": [
            "/bin/bash: /home/cosmo/anaconda3/envs/TensorFlow_2.8.3__Python_3.9/lib/libtinfo.so.6: no version information available (required by /bin/bash)\n",
            "2023-06-16 18:48:35.892109: I tensorflow/stream_executor/cuda/cuda_gpu_executor.cc:936] successful NUMA node read from SysFS had negative value (-1), but there must be at least one NUMA node, so returning NUMA node zero\n",
            "2023-06-16 18:48:35.892197: I tensorflow/stream_executor/cuda/cuda_gpu_executor.cc:936] successful NUMA node read from SysFS had negative value (-1), but there must be at least one NUMA node, so returning NUMA node zero\n",
            "2023-06-16 18:48:35.905391: I tensorflow/stream_executor/cuda/cuda_gpu_executor.cc:936] successful NUMA node read from SysFS had negative value (-1), but there must be at least one NUMA node, so returning NUMA node zero\n",
            "2023-06-16 18:48:35.905494: I tensorflow/stream_executor/cuda/cuda_gpu_executor.cc:936] successful NUMA node read from SysFS had negative value (-1), but there must be at least one NUMA node, so returning NUMA node zero\n",
            "2023-06-16 18:48:35.905552: I tensorflow/stream_executor/cuda/cuda_gpu_executor.cc:936] successful NUMA node read from SysFS had negative value (-1), but there must be at least one NUMA node, so returning NUMA node zero\n",
            "2023-06-16 18:48:35.905605: I tensorflow/stream_executor/cuda/cuda_gpu_executor.cc:936] successful NUMA node read from SysFS had negative value (-1), but there must be at least one NUMA node, so returning NUMA node zero\n",
            "\n",
            "New experiment created. View your TensorBoard at: https://tensorboard.dev/experiment/cOXksGO3S8K1HQxcpPLW6Q/\n",
            "\n",
            "\u001b[1m[2023-06-16T18:48:36]\u001b[0m Started scanning logdir.\n",
            "\u001b[1m[2023-06-16T18:48:36]\u001b[0m Total uploaded: 130 scalars, 0 tensors, 0 binary objects\n",
            "\u001b[1m[2023-06-16T18:48:36]\u001b[0m Done scanning logdir.\n",
            "\n",
            "\n",
            "Done. View your TensorBoard at https://tensorboard.dev/experiment/cOXksGO3S8K1HQxcpPLW6Q/\n"
          ]
        }
      ],
      "source": [
        "# YOUR_CODE_HERE\n",
        "# 請用Terminal 輸入，如果無法執行，代表妳的tensorboard版本不夠高\n",
        "# 注意！！！！　請重新建立一個新的 TensorFlow 環境，並且用 TensorBoard 的最高版本，再用Terminal執行\n",
        "!tensorboard dev upload --logdir ./training_logs \\\n",
        "  --name \"Milestone project 1 food vision video\" \\\n",
        "  --description \"A series of different transfer learning experiments with varying amounts of data and fine-tuning.\" \\\n",
        "  --one_shot # exits the uploader once its finished uploading"
      ]
    },
    {
      "attachments": {},
      "cell_type": "markdown",
      "metadata": {},
      "source": [
        "tensorboard                  2.8.0\n",
        "tensorboard-data-server      0.6.1\n",
        "tensorboard-plugin-wit       1.8.1"
      ]
    },
    {
      "attachments": {},
      "cell_type": "markdown",
      "metadata": {},
      "source": [
        "Viewing at our [model's training curves on TensorBoard.dev](https://tensorboard.dev/experiment/21Nv7P4eTV62O7VokENEhw/#scalars), it looks like our fine-tuning model gains boost in performance but starts to overfit as training goes on.\n",
        "\n",
        "See the training curves on TensorBoard.dev here: https://tensorboard.dev/experiment/21Nv7P4eTV62O7VokENEhw/#scalars\n",
        "\n",
        "To fix this, in future experiments, we might try things like:\n",
        "* A different iteration of `EfficientNet` (e.g. `EfficientNetB4` instead of `EfficientNetB0`).\n",
        "* Unfreezing less layers of the base model and training them rather than unfreezing the whole base model in one go."
      ]
    },
    {
      "cell_type": "code",
      "execution_count": 563,
      "metadata": {},
      "outputs": [
        {
          "name": "stdout",
          "output_type": "stream",
          "text": [
            "/bin/bash: /home/cosmo/anaconda3/envs/TensorFlow_2.8.3__Python_3.9/lib/libtinfo.so.6: no version information available (required by /bin/bash)\n",
            "2023-06-16 18:48:38.392201: I tensorflow/stream_executor/cuda/cuda_gpu_executor.cc:936] successful NUMA node read from SysFS had negative value (-1), but there must be at least one NUMA node, so returning NUMA node zero\n",
            "2023-06-16 18:48:38.392290: I tensorflow/stream_executor/cuda/cuda_gpu_executor.cc:936] successful NUMA node read from SysFS had negative value (-1), but there must be at least one NUMA node, so returning NUMA node zero\n",
            "2023-06-16 18:48:38.405547: I tensorflow/stream_executor/cuda/cuda_gpu_executor.cc:936] successful NUMA node read from SysFS had negative value (-1), but there must be at least one NUMA node, so returning NUMA node zero\n",
            "2023-06-16 18:48:38.405654: I tensorflow/stream_executor/cuda/cuda_gpu_executor.cc:936] successful NUMA node read from SysFS had negative value (-1), but there must be at least one NUMA node, so returning NUMA node zero\n",
            "2023-06-16 18:48:38.405715: I tensorflow/stream_executor/cuda/cuda_gpu_executor.cc:936] successful NUMA node read from SysFS had negative value (-1), but there must be at least one NUMA node, so returning NUMA node zero\n",
            "2023-06-16 18:48:38.405768: I tensorflow/stream_executor/cuda/cuda_gpu_executor.cc:936] successful NUMA node read from SysFS had negative value (-1), but there must be at least one NUMA node, so returning NUMA node zero\n",
            "https://tensorboard.dev/experiment/cOXksGO3S8K1HQxcpPLW6Q/\n",
            "\tName                 Milestone project 1 food vision video\n",
            "\tDescription          A series of different transfer learning experiments with varying amounts of data and fine-tuning.\n",
            "\tId                   cOXksGO3S8K1HQxcpPLW6Q\n",
            "\tCreated              2023-06-16 18:48:36 (just now)\n",
            "\tUpdated              2023-06-16 18:48:36 (just now)\n",
            "\tRuns                 4\n",
            "\tTags                 5\n",
            "\tScalars              130\n",
            "\tTensor bytes         0\n",
            "\tBinary object bytes  0\n",
            "https://tensorboard.dev/experiment/21Nv7P4eTV62O7VokENEhw/\n",
            "\tName                 Milestone project 1 food vision video\n",
            "\tDescription          A series of different transfer learning experiments with varying amounts of data and fine-tuning.\n",
            "\tId                   21Nv7P4eTV62O7VokENEhw\n",
            "\tCreated              2023-06-16 13:56:51 (4 hours ago)\n",
            "\tUpdated              2023-06-16 13:56:52 (4 hours ago)\n",
            "\tRuns                 14\n",
            "\tTags                 6\n",
            "\tScalars              299\n",
            "\tTensor bytes         0\n",
            "\tBinary object bytes  842937\n",
            "https://tensorboard.dev/experiment/ANGWxS8dQ7KlH6KFxPOiEQ/\n",
            "\tName                 Transfer Learning Experiments with 10 Food101 Classes\n",
            "\tDescription          A series of different transfer learning experiments with varying amounts of data and fine-tuning.\n",
            "\tId                   ANGWxS8dQ7KlH6KFxPOiEQ\n",
            "\tCreated              2023-05-28 13:11:52\n",
            "\tUpdated              2023-05-28 13:12:00\n",
            "\tRuns                 12\n",
            "\tTags                 5\n",
            "\tScalars              222\n",
            "\tTensor bytes         0\n",
            "\tBinary object bytes  5141147\n",
            "https://tensorboard.dev/experiment/A0qCpO4PTva7CDYN0hNBBg/\n",
            "\tName                 EfficientNetB0 vs. ResNet50V2 vs. MobileNetV3\n",
            "\tDescription          Comparing three different TF Hub feature extraction model architectures using 10 percent of the training data\n",
            "\tId                   A0qCpO4PTva7CDYN0hNBBg\n",
            "\tCreated              2023-05-22 21:22:31\n",
            "\tUpdated              2023-05-22 21:22:37\n",
            "\tRuns                 6\n",
            "\tTags                 5\n",
            "\tScalars              90\n",
            "\tTensor bytes         0\n",
            "\tBinary object bytes  7964251\n",
            "Total: 4 experiment(s)\n"
          ]
        }
      ],
      "source": [
        "# View past TensorBoard experiments\n",
        "!tensorboard dev list"
      ]
    },
    {
      "cell_type": "code",
      "execution_count": 564,
      "metadata": {},
      "outputs": [],
      "source": [
        "# Delete past TensorBoard experiments\n",
        "# !tensorboard dev delete --experiment_id YOUR_EXPERIMENT_ID\n",
        "\n",
        "# Example\n",
        "# !tensorboard dev delete --experiment_id 3ikK6k3ATp27ZJJNdNblew"
      ]
    },
    {
      "attachments": {},
      "cell_type": "markdown",
      "metadata": {},
      "source": [
        "## 2.4. <a id='toc2_4_'></a>[TODO: Evaluate your trained model](#toc0_)\n",
        "\n",
        "Some ideas you might want to go through:\n",
        "1. Find the precision, recall and f1 scores for each class (all 101).\n",
        "2. Build a confusion matrix for each of the classes.\n",
        "3. Find your model's *most wrong* predictions (those with the highest prediction probability but the wrong prediction).\n",
        "\n",
        "See the evaluation section at the end of [Transfer Learning Part 3: Scaling Up for more](https://github.com/mrdbourke/tensorflow-deep-learning/blob/main/06_transfer_learning_in_tensorflow_part_3_scaling_up.ipynb)."
      ]
    },
    {
      "cell_type": "code",
      "execution_count": 565,
      "metadata": {},
      "outputs": [
        {
          "name": "stdout",
          "output_type": "stream",
          "text": [
            "790/790 [==============================] - 9s 10ms/step\n"
          ]
        },
        {
          "data": {
            "text/plain": [
              "array([[1.6755699e-03, 3.1969266e-06, 9.3765550e-07, ..., 8.2462124e-04,\n",
              "        2.1054299e-04, 3.8623024e-02],\n",
              "       [3.1984491e-05, 4.0743221e-06, 7.3356372e-05, ..., 2.3263645e-05,\n",
              "        5.3624291e-04, 2.6933645e-05],\n",
              "       [6.7608744e-06, 9.6862786e-06, 6.5098111e-06, ..., 3.9545631e-07,\n",
              "        1.2227427e-05, 2.1881867e-07],\n",
              "       ...,\n",
              "       [9.8509900e-02, 1.0641494e-04, 6.0615304e-07, ..., 6.6853405e-05,\n",
              "        3.0433445e-04, 5.3272009e-02],\n",
              "       [7.8332334e-08, 6.9310174e-10, 2.0374435e-08, ..., 5.3141952e-10,\n",
              "        1.3946455e-09, 1.1886076e-07],\n",
              "       [7.5829267e-03, 2.4797779e-05, 9.2780759e-04, ..., 3.1086944e-02,\n",
              "        1.8687400e-03, 3.8114353e-04]], dtype=float32)"
            ]
          },
          "execution_count": 565,
          "metadata": {},
          "output_type": "execute_result"
        }
      ],
      "source": [
        "# Make predictions with model\n",
        "pred_probs = model.predict(test_data, verbose = 1) # set verbosity to see how long it will take \n",
        "pred_probs   # 有161936個預測"
      ]
    },
    {
      "cell_type": "code",
      "execution_count": 566,
      "metadata": {},
      "outputs": [
        {
          "data": {
            "text/plain": [
              "(25250, 101)"
            ]
          },
          "execution_count": 566,
          "metadata": {},
          "output_type": "execute_result"
        }
      ],
      "source": [
        "pred_probs.shape"
      ]
    },
    {
      "cell_type": "code",
      "execution_count": 576,
      "metadata": {},
      "outputs": [
        {
          "data": {
            "text/plain": [
              "array([29, 81, 91, ..., 76, 31, 22])"
            ]
          },
          "execution_count": 576,
          "metadata": {},
          "output_type": "execute_result"
        }
      ],
      "source": [
        "y_pred = pred_probs.argmax(axis=1)\n",
        "y_pred"
      ]
    },
    {
      "cell_type": "code",
      "execution_count": 590,
      "metadata": {},
      "outputs": [
        {
          "data": {
            "text/plain": [
              "[29, 81, 91, 53, 97, 97, 10, 31, 3, 100]"
            ]
          },
          "execution_count": 590,
          "metadata": {},
          "output_type": "execute_result"
        }
      ],
      "source": [
        "# Note: This might take a minute or so due to unravelling 790 batches\n",
        "y_labels = []\n",
        "for images, labels in test_data.unbatch(): # unbatch the test data and get images and labels\n",
        "  y_labels.append(labels.numpy())\n",
        "  #y_labels.append(labels.numpy().argmax()) # append the index which has the largest value (labels are one-hot)\n",
        "y_labels[:10] # check what they look like (unshuffled)"
      ]
    },
    {
      "cell_type": "code",
      "execution_count": 578,
      "metadata": {},
      "outputs": [
        {
          "data": {
            "text/plain": [
              "25250"
            ]
          },
          "execution_count": 578,
          "metadata": {},
          "output_type": "execute_result"
        }
      ],
      "source": [
        "# How many labels are there? (should be the same as how many prediction probabilities we have)\n",
        "len(y_labels)"
      ]
    },
    {
      "cell_type": "code",
      "execution_count": 579,
      "metadata": {},
      "outputs": [
        {
          "data": {
            "text/plain": [
              "0.7142574257425742"
            ]
          },
          "execution_count": 579,
          "metadata": {},
          "output_type": "execute_result"
        }
      ],
      "source": [
        "# Get accuracy score by comparing predicted classes to ground truth labels\n",
        "from sklearn.metrics import accuracy_score\n",
        "sklearn_accuracy = accuracy_score(y_labels, y_pred)\n",
        "sklearn_accuracy\n",
        "     "
      ]
    },
    {
      "cell_type": "code",
      "execution_count": 581,
      "metadata": {},
      "outputs": [
        {
          "name": "stdout",
          "output_type": "stream",
          "text": [
            "              precision    recall  f1-score   support\n",
            "\n",
            "           0       0.51      0.44      0.47       250\n",
            "           1       0.75      0.69      0.72       250\n",
            "           2       0.73      0.76      0.75       250\n",
            "           3       0.73      0.75      0.74       250\n",
            "           4       0.62      0.58      0.60       250\n",
            "           5       0.59      0.61      0.60       250\n",
            "           6       0.80      0.80      0.80       250\n",
            "           7       0.84      0.87      0.86       250\n",
            "           8       0.46      0.46      0.46       250\n",
            "           9       0.71      0.62      0.66       250\n",
            "          10       0.69      0.58      0.63       250\n",
            "          11       0.75      0.76      0.75       250\n",
            "          12       0.74      0.74      0.74       250\n",
            "          13       0.70      0.73      0.71       250\n",
            "          14       0.71      0.66      0.68       250\n",
            "          15       0.55      0.53      0.54       250\n",
            "          16       0.53      0.56      0.55       250\n",
            "          17       0.73      0.69      0.71       250\n",
            "          18       0.64      0.64      0.64       250\n",
            "          19       0.73      0.75      0.74       250\n",
            "          20       0.79      0.81      0.80       250\n",
            "          21       0.62      0.55      0.58       250\n",
            "          22       0.46      0.45      0.46       250\n",
            "          23       0.87      0.78      0.82       250\n",
            "          24       0.79      0.83      0.81       250\n",
            "          25       0.76      0.78      0.77       250\n",
            "          26       0.57      0.59      0.58       250\n",
            "          27       0.78      0.81      0.79       250\n",
            "          28       0.77      0.80      0.79       250\n",
            "          29       0.78      0.86      0.82       250\n",
            "          30       0.78      0.84      0.81       250\n",
            "          31       0.76      0.80      0.78       250\n",
            "          32       0.82      0.87      0.84       250\n",
            "          33       0.98      0.98      0.98       250\n",
            "          34       0.82      0.82      0.82       250\n",
            "          35       0.79      0.81      0.80       250\n",
            "          36       0.68      0.62      0.65       250\n",
            "          37       0.55      0.54      0.54       250\n",
            "          38       0.72      0.77      0.74       250\n",
            "          39       0.47      0.45      0.46       250\n",
            "          40       0.81      0.84      0.83       250\n",
            "          41       0.74      0.76      0.75       250\n",
            "          42       0.61      0.66      0.63       250\n",
            "          43       0.73      0.75      0.74       250\n",
            "          44       0.73      0.73      0.73       250\n",
            "          45       0.88      0.87      0.88       250\n",
            "          46       0.69      0.71      0.70       250\n",
            "          47       0.60      0.60      0.60       250\n",
            "          48       0.70      0.76      0.73       250\n",
            "          49       0.53      0.62      0.57       250\n",
            "          50       0.56      0.55      0.55       250\n",
            "          51       0.85      0.85      0.85       250\n",
            "          52       0.72      0.74      0.73       250\n",
            "          53       0.73      0.71      0.72       250\n",
            "          54       0.88      0.88      0.88       250\n",
            "          55       0.80      0.83      0.82       250\n",
            "          56       0.53      0.54      0.54       250\n",
            "          57       0.61      0.59      0.60       250\n",
            "          58       0.77      0.68      0.72       250\n",
            "          59       0.63      0.61      0.62       250\n",
            "          60       0.76      0.79      0.77       250\n",
            "          61       0.75      0.79      0.77       250\n",
            "          62       0.71      0.71      0.71       250\n",
            "          63       0.91      0.92      0.91       250\n",
            "          64       0.85      0.88      0.86       250\n",
            "          65       0.90      0.82      0.86       250\n",
            "          66       0.66      0.64      0.65       250\n",
            "          67       0.59      0.58      0.59       250\n",
            "          68       0.84      0.86      0.85       250\n",
            "          69       0.86      0.88      0.87       250\n",
            "          70       0.77      0.87      0.82       250\n",
            "          71       0.79      0.72      0.75       250\n",
            "          72       0.74      0.76      0.75       250\n",
            "          73       0.66      0.63      0.64       250\n",
            "          74       0.80      0.71      0.75       250\n",
            "          75       0.86      0.88      0.87       250\n",
            "          76       0.84      0.88      0.86       250\n",
            "          77       0.47      0.47      0.47       250\n",
            "          78       0.80      0.82      0.81       250\n",
            "          79       0.71      0.77      0.74       250\n",
            "          80       0.66      0.65      0.66       250\n",
            "          81       0.76      0.79      0.78       250\n",
            "          82       0.52      0.47      0.49       250\n",
            "          83       0.78      0.77      0.78       250\n",
            "          84       0.61      0.58      0.59       250\n",
            "          85       0.70      0.70      0.70       250\n",
            "          86       0.82      0.84      0.83       250\n",
            "          87       0.58      0.56      0.57       250\n",
            "          88       0.87      0.84      0.86       250\n",
            "          89       0.59      0.63      0.61       250\n",
            "          90       0.87      0.82      0.85       250\n",
            "          91       0.86      0.88      0.87       250\n",
            "          92       0.77      0.72      0.74       250\n",
            "          93       0.45      0.40      0.43       250\n",
            "          94       0.68      0.74      0.71       250\n",
            "          95       0.79      0.74      0.76       250\n",
            "          96       0.58      0.63      0.60       250\n",
            "          97       0.78      0.79      0.78       250\n",
            "          98       0.65      0.66      0.66       250\n",
            "          99       0.54      0.50      0.52       250\n",
            "         100       0.77      0.78      0.78       250\n",
            "\n",
            "    accuracy                           0.71     25250\n",
            "   macro avg       0.71      0.71      0.71     25250\n",
            "weighted avg       0.71      0.71      0.71     25250\n",
            "\n"
          ]
        }
      ],
      "source": [
        "from sklearn.metrics import classification_report\n",
        "print(classification_report(y_labels, y_pred, ))"
      ]
    },
    {
      "attachments": {},
      "cell_type": "markdown",
      "metadata": {},
      "source": [
        "## 2.5. <a id='toc2_5_'></a>[🛠 Exercises](#toc0_)\n",
        "\n",
        "1. Use the same evaluation techniques on the large-scale Food Vision model as you did in the previous notebook ([Transfer Learning Part 3: Scaling up](https://github.com/mrdbourke/tensorflow-deep-learning/blob/main/06_transfer_learning_in_tensorflow_part_3_scaling_up.ipynb)). More specifically, it would be good to see:\n",
        "  * A confusion matrix between all of the model's predictions and true labels.\n",
        "  * A graph showing the f1-scores of each class.\n",
        "  * A visualization of the model making predictions on various images and comparing the predictions to the ground truth.\n",
        "    * For example, plot a sample image from the test dataset and have the title of the plot show the prediction, the prediction probability and the ground truth label. \n",
        "2. Take 3 of your own photos of food and use the Food Vision model to make predictions on them. How does it go? Share your images/predictions with the other students.\n",
        "3. Retrain the model (feature extraction and fine-tuning) we trained in this notebook, except this time use [`EfficientNetB4`](https://www.tensorflow.org/api_docs/python/tf/keras/applications/EfficientNetB4) as the base model instead of `EfficientNetB0`. Do you notice an improvement in performance? Does it take longer to train? Are there any tradeoffs to consider?\n",
        "4. Name one important benefit of mixed precision training, how does this benefit take place?"
      ]
    },
    {
      "attachments": {},
      "cell_type": "markdown",
      "metadata": {},
      "source": [
        "## 2.6. <a id='toc2_6_'></a>[📖 Extra-curriculum](#toc0_)\n",
        "\n",
        "* Read up on learning rate scheduling and the [learning rate scheduler callback](https://www.tensorflow.org/api_docs/python/tf/keras/callbacks/LearningRateScheduler). What is it? And how might it be helpful to this project?\n",
        "* Read up on TensorFlow data loaders ([improving TensorFlow data loading performance](https://www.tensorflow.org/guide/data_performance)). Is there anything we've missed? What methods you keep in mind whenever loading data in TensorFlow? Hint: check the summary at the bottom of the page for a gret round up of ideas.\n",
        "* Read up on the documentation for [TensorFlow mixed precision training](https://www.tensorflow.org/guide/mixed_precision). What are the important things to keep in mind when using mixed precision training?"
      ]
    },
    {
      "cell_type": "code",
      "execution_count": null,
      "metadata": {},
      "outputs": [],
      "source": []
    },
    {
      "cell_type": "code",
      "execution_count": null,
      "metadata": {},
      "outputs": [],
      "source": []
    }
  ],
  "metadata": {
    "accelerator": "GPU",
    "colab": {
      "authorship_tag": "ABX9TyOWUZ8qKQyAPzHOEDycT+kJ",
      "collapsed_sections": [],
      "include_colab_link": true,
      "name": "07_milestone_project_1_food_vision_video.ipynb",
      "provenance": []
    },
    "kernelspec": {
      "display_name": "Python 3",
      "name": "python3"
    },
    "language_info": {
      "codemirror_mode": {
        "name": "ipython",
        "version": 3
      },
      "file_extension": ".py",
      "mimetype": "text/x-python",
      "name": "python",
      "nbconvert_exporter": "python",
      "pygments_lexer": "ipython3",
      "version": "3.9.16"
    },
    "widgets": {
      "application/vnd.jupyter.widget-state+json": {
        "00d36279fda4446c94181db1a345bc52": {
          "model_module": "@jupyter-widgets/controls",
          "model_name": "ProgressStyleModel",
          "state": {
            "_model_module": "@jupyter-widgets/controls",
            "_model_module_version": "1.5.0",
            "_model_name": "ProgressStyleModel",
            "_view_count": null,
            "_view_module": "@jupyter-widgets/base",
            "_view_module_version": "1.2.0",
            "_view_name": "StyleView",
            "bar_color": null,
            "description_width": "initial"
          }
        },
        "04b58a7a3ace4b5fbf5ee84f8fdb6772": {
          "model_module": "@jupyter-widgets/base",
          "model_name": "LayoutModel",
          "state": {
            "_model_module": "@jupyter-widgets/base",
            "_model_module_version": "1.2.0",
            "_model_name": "LayoutModel",
            "_view_count": null,
            "_view_module": "@jupyter-widgets/base",
            "_view_module_version": "1.2.0",
            "_view_name": "LayoutView",
            "align_content": null,
            "align_items": null,
            "align_self": null,
            "border": null,
            "bottom": null,
            "display": null,
            "flex": null,
            "flex_flow": null,
            "grid_area": null,
            "grid_auto_columns": null,
            "grid_auto_flow": null,
            "grid_auto_rows": null,
            "grid_column": null,
            "grid_gap": null,
            "grid_row": null,
            "grid_template_areas": null,
            "grid_template_columns": null,
            "grid_template_rows": null,
            "height": null,
            "justify_content": null,
            "justify_items": null,
            "left": null,
            "margin": null,
            "max_height": null,
            "max_width": null,
            "min_height": null,
            "min_width": null,
            "object_fit": null,
            "object_position": null,
            "order": null,
            "overflow": null,
            "overflow_x": null,
            "overflow_y": null,
            "padding": null,
            "right": null,
            "top": null,
            "visibility": null,
            "width": null
          }
        },
        "1a9175aa441649789eb826a91bda6387": {
          "model_module": "@jupyter-widgets/base",
          "model_name": "LayoutModel",
          "state": {
            "_model_module": "@jupyter-widgets/base",
            "_model_module_version": "1.2.0",
            "_model_name": "LayoutModel",
            "_view_count": null,
            "_view_module": "@jupyter-widgets/base",
            "_view_module_version": "1.2.0",
            "_view_name": "LayoutView",
            "align_content": null,
            "align_items": null,
            "align_self": null,
            "border": null,
            "bottom": null,
            "display": null,
            "flex": null,
            "flex_flow": null,
            "grid_area": null,
            "grid_auto_columns": null,
            "grid_auto_flow": null,
            "grid_auto_rows": null,
            "grid_column": null,
            "grid_gap": null,
            "grid_row": null,
            "grid_template_areas": null,
            "grid_template_columns": null,
            "grid_template_rows": null,
            "height": null,
            "justify_content": null,
            "justify_items": null,
            "left": null,
            "margin": null,
            "max_height": null,
            "max_width": null,
            "min_height": null,
            "min_width": null,
            "object_fit": null,
            "object_position": null,
            "order": null,
            "overflow": null,
            "overflow_x": null,
            "overflow_y": null,
            "padding": null,
            "right": null,
            "top": null,
            "visibility": null,
            "width": null
          }
        },
        "28144711ea794b1bb13879375734a0c8": {
          "model_module": "@jupyter-widgets/base",
          "model_name": "LayoutModel",
          "state": {
            "_model_module": "@jupyter-widgets/base",
            "_model_module_version": "1.2.0",
            "_model_name": "LayoutModel",
            "_view_count": null,
            "_view_module": "@jupyter-widgets/base",
            "_view_module_version": "1.2.0",
            "_view_name": "LayoutView",
            "align_content": null,
            "align_items": null,
            "align_self": null,
            "border": null,
            "bottom": null,
            "display": null,
            "flex": null,
            "flex_flow": null,
            "grid_area": null,
            "grid_auto_columns": null,
            "grid_auto_flow": null,
            "grid_auto_rows": null,
            "grid_column": null,
            "grid_gap": null,
            "grid_row": null,
            "grid_template_areas": null,
            "grid_template_columns": null,
            "grid_template_rows": null,
            "height": null,
            "justify_content": null,
            "justify_items": null,
            "left": null,
            "margin": null,
            "max_height": null,
            "max_width": null,
            "min_height": null,
            "min_width": null,
            "object_fit": null,
            "object_position": null,
            "order": null,
            "overflow": null,
            "overflow_x": null,
            "overflow_y": null,
            "padding": null,
            "right": null,
            "top": null,
            "visibility": null,
            "width": null
          }
        },
        "282ffe2459e94fe99bfab43d546336ec": {
          "model_module": "@jupyter-widgets/controls",
          "model_name": "ProgressStyleModel",
          "state": {
            "_model_module": "@jupyter-widgets/controls",
            "_model_module_version": "1.5.0",
            "_model_name": "ProgressStyleModel",
            "_view_count": null,
            "_view_module": "@jupyter-widgets/base",
            "_view_module_version": "1.2.0",
            "_view_name": "StyleView",
            "bar_color": null,
            "description_width": "initial"
          }
        },
        "3034c6ae742a47fa8d8be6a5438f656f": {
          "model_module": "@jupyter-widgets/base",
          "model_name": "LayoutModel",
          "state": {
            "_model_module": "@jupyter-widgets/base",
            "_model_module_version": "1.2.0",
            "_model_name": "LayoutModel",
            "_view_count": null,
            "_view_module": "@jupyter-widgets/base",
            "_view_module_version": "1.2.0",
            "_view_name": "LayoutView",
            "align_content": null,
            "align_items": null,
            "align_self": null,
            "border": null,
            "bottom": null,
            "display": null,
            "flex": null,
            "flex_flow": null,
            "grid_area": null,
            "grid_auto_columns": null,
            "grid_auto_flow": null,
            "grid_auto_rows": null,
            "grid_column": null,
            "grid_gap": null,
            "grid_row": null,
            "grid_template_areas": null,
            "grid_template_columns": null,
            "grid_template_rows": null,
            "height": null,
            "justify_content": null,
            "justify_items": null,
            "left": null,
            "margin": null,
            "max_height": null,
            "max_width": null,
            "min_height": null,
            "min_width": null,
            "object_fit": null,
            "object_position": null,
            "order": null,
            "overflow": null,
            "overflow_x": null,
            "overflow_y": null,
            "padding": null,
            "right": null,
            "top": null,
            "visibility": null,
            "width": null
          }
        },
        "38e90f027340429a850fc7a7e63ed7f8": {
          "model_module": "@jupyter-widgets/base",
          "model_name": "LayoutModel",
          "state": {
            "_model_module": "@jupyter-widgets/base",
            "_model_module_version": "1.2.0",
            "_model_name": "LayoutModel",
            "_view_count": null,
            "_view_module": "@jupyter-widgets/base",
            "_view_module_version": "1.2.0",
            "_view_name": "LayoutView",
            "align_content": null,
            "align_items": null,
            "align_self": null,
            "border": null,
            "bottom": null,
            "display": null,
            "flex": null,
            "flex_flow": null,
            "grid_area": null,
            "grid_auto_columns": null,
            "grid_auto_flow": null,
            "grid_auto_rows": null,
            "grid_column": null,
            "grid_gap": null,
            "grid_row": null,
            "grid_template_areas": null,
            "grid_template_columns": null,
            "grid_template_rows": null,
            "height": null,
            "justify_content": null,
            "justify_items": null,
            "left": null,
            "margin": null,
            "max_height": null,
            "max_width": null,
            "min_height": null,
            "min_width": null,
            "object_fit": null,
            "object_position": null,
            "order": null,
            "overflow": null,
            "overflow_x": null,
            "overflow_y": null,
            "padding": null,
            "right": null,
            "top": null,
            "visibility": null,
            "width": null
          }
        },
        "3d4ecb760b4b45b69ef6b46dfea6ce58": {
          "model_module": "@jupyter-widgets/controls",
          "model_name": "HBoxModel",
          "state": {
            "_dom_classes": [],
            "_model_module": "@jupyter-widgets/controls",
            "_model_module_version": "1.5.0",
            "_model_name": "HBoxModel",
            "_view_count": null,
            "_view_module": "@jupyter-widgets/controls",
            "_view_module_version": "1.5.0",
            "_view_name": "HBoxView",
            "box_style": "",
            "children": [
              "IPY_MODEL_58a6eae0d6ea4e7eb9475cb36e5a425a",
              "IPY_MODEL_9fcb650252cf496ca1441b4608c804b0"
            ],
            "layout": "IPY_MODEL_62e35937d27e45be879e28e86dd445bc"
          }
        },
        "4a0bcfa0c4f844bcadf41cdccc27f6d1": {
          "model_module": "@jupyter-widgets/base",
          "model_name": "LayoutModel",
          "state": {
            "_model_module": "@jupyter-widgets/base",
            "_model_module_version": "1.2.0",
            "_model_name": "LayoutModel",
            "_view_count": null,
            "_view_module": "@jupyter-widgets/base",
            "_view_module_version": "1.2.0",
            "_view_name": "LayoutView",
            "align_content": null,
            "align_items": null,
            "align_self": null,
            "border": null,
            "bottom": null,
            "display": null,
            "flex": null,
            "flex_flow": null,
            "grid_area": null,
            "grid_auto_columns": null,
            "grid_auto_flow": null,
            "grid_auto_rows": null,
            "grid_column": null,
            "grid_gap": null,
            "grid_row": null,
            "grid_template_areas": null,
            "grid_template_columns": null,
            "grid_template_rows": null,
            "height": null,
            "justify_content": null,
            "justify_items": null,
            "left": null,
            "margin": null,
            "max_height": null,
            "max_width": null,
            "min_height": null,
            "min_width": null,
            "object_fit": null,
            "object_position": null,
            "order": null,
            "overflow": null,
            "overflow_x": null,
            "overflow_y": null,
            "padding": null,
            "right": null,
            "top": null,
            "visibility": null,
            "width": null
          }
        },
        "58a6eae0d6ea4e7eb9475cb36e5a425a": {
          "model_module": "@jupyter-widgets/controls",
          "model_name": "FloatProgressModel",
          "state": {
            "_dom_classes": [],
            "_model_module": "@jupyter-widgets/controls",
            "_model_module_version": "1.5.0",
            "_model_name": "FloatProgressModel",
            "_view_count": null,
            "_view_module": "@jupyter-widgets/controls",
            "_view_module_version": "1.5.0",
            "_view_name": "ProgressView",
            "bar_style": "success",
            "description": "Extraction completed...: 100%",
            "description_tooltip": null,
            "layout": "IPY_MODEL_9221727421244b6bad80b55222d5f01f",
            "max": 1,
            "min": 0,
            "orientation": "horizontal",
            "style": "IPY_MODEL_ca1e944645204fd2880159567699b501",
            "value": 1
          }
        },
        "62c03ae9b20042899f6c82aa5f21cf9d": {
          "model_module": "@jupyter-widgets/base",
          "model_name": "LayoutModel",
          "state": {
            "_model_module": "@jupyter-widgets/base",
            "_model_module_version": "1.2.0",
            "_model_name": "LayoutModel",
            "_view_count": null,
            "_view_module": "@jupyter-widgets/base",
            "_view_module_version": "1.2.0",
            "_view_name": "LayoutView",
            "align_content": null,
            "align_items": null,
            "align_self": null,
            "border": null,
            "bottom": null,
            "display": null,
            "flex": null,
            "flex_flow": null,
            "grid_area": null,
            "grid_auto_columns": null,
            "grid_auto_flow": null,
            "grid_auto_rows": null,
            "grid_column": null,
            "grid_gap": null,
            "grid_row": null,
            "grid_template_areas": null,
            "grid_template_columns": null,
            "grid_template_rows": null,
            "height": null,
            "justify_content": null,
            "justify_items": null,
            "left": null,
            "margin": null,
            "max_height": null,
            "max_width": null,
            "min_height": null,
            "min_width": null,
            "object_fit": null,
            "object_position": null,
            "order": null,
            "overflow": null,
            "overflow_x": null,
            "overflow_y": null,
            "padding": null,
            "right": null,
            "top": null,
            "visibility": null,
            "width": null
          }
        },
        "62e35937d27e45be879e28e86dd445bc": {
          "model_module": "@jupyter-widgets/base",
          "model_name": "LayoutModel",
          "state": {
            "_model_module": "@jupyter-widgets/base",
            "_model_module_version": "1.2.0",
            "_model_name": "LayoutModel",
            "_view_count": null,
            "_view_module": "@jupyter-widgets/base",
            "_view_module_version": "1.2.0",
            "_view_name": "LayoutView",
            "align_content": null,
            "align_items": null,
            "align_self": null,
            "border": null,
            "bottom": null,
            "display": null,
            "flex": null,
            "flex_flow": null,
            "grid_area": null,
            "grid_auto_columns": null,
            "grid_auto_flow": null,
            "grid_auto_rows": null,
            "grid_column": null,
            "grid_gap": null,
            "grid_row": null,
            "grid_template_areas": null,
            "grid_template_columns": null,
            "grid_template_rows": null,
            "height": null,
            "justify_content": null,
            "justify_items": null,
            "left": null,
            "margin": null,
            "max_height": null,
            "max_width": null,
            "min_height": null,
            "min_width": null,
            "object_fit": null,
            "object_position": null,
            "order": null,
            "overflow": null,
            "overflow_x": null,
            "overflow_y": null,
            "padding": null,
            "right": null,
            "top": null,
            "visibility": null,
            "width": null
          }
        },
        "6398c1dafc0841efad377e6076fb6d84": {
          "model_module": "@jupyter-widgets/base",
          "model_name": "LayoutModel",
          "state": {
            "_model_module": "@jupyter-widgets/base",
            "_model_module_version": "1.2.0",
            "_model_name": "LayoutModel",
            "_view_count": null,
            "_view_module": "@jupyter-widgets/base",
            "_view_module_version": "1.2.0",
            "_view_name": "LayoutView",
            "align_content": null,
            "align_items": null,
            "align_self": null,
            "border": null,
            "bottom": null,
            "display": null,
            "flex": null,
            "flex_flow": null,
            "grid_area": null,
            "grid_auto_columns": null,
            "grid_auto_flow": null,
            "grid_auto_rows": null,
            "grid_column": null,
            "grid_gap": null,
            "grid_row": null,
            "grid_template_areas": null,
            "grid_template_columns": null,
            "grid_template_rows": null,
            "height": null,
            "justify_content": null,
            "justify_items": null,
            "left": null,
            "margin": null,
            "max_height": null,
            "max_width": null,
            "min_height": null,
            "min_width": null,
            "object_fit": null,
            "object_position": null,
            "order": null,
            "overflow": null,
            "overflow_x": null,
            "overflow_y": null,
            "padding": null,
            "right": null,
            "top": null,
            "visibility": null,
            "width": null
          }
        },
        "6b659db66e384424bb520f7560280351": {
          "model_module": "@jupyter-widgets/controls",
          "model_name": "HTMLModel",
          "state": {
            "_dom_classes": [],
            "_model_module": "@jupyter-widgets/controls",
            "_model_module_version": "1.5.0",
            "_model_name": "HTMLModel",
            "_view_count": null,
            "_view_module": "@jupyter-widgets/controls",
            "_view_module_version": "1.5.0",
            "_view_name": "HTMLView",
            "description": "",
            "description_tooltip": null,
            "layout": "IPY_MODEL_be6600013bcb42ef88288fd5c07d929d",
            "placeholder": "​",
            "style": "IPY_MODEL_74a06a42ecb84ba78a2e5666c68da3b7",
            "value": " 25002/25250 [00:38&lt;00:00, 315.50 examples/s]"
          }
        },
        "6e8eaa54ba8b4e208baa4d570c3b9218": {
          "model_module": "@jupyter-widgets/controls",
          "model_name": "HTMLModel",
          "state": {
            "_dom_classes": [],
            "_model_module": "@jupyter-widgets/controls",
            "_model_module_version": "1.5.0",
            "_model_name": "HTMLModel",
            "_view_count": null,
            "_view_module": "@jupyter-widgets/controls",
            "_view_module_version": "1.5.0",
            "_view_name": "HTMLView",
            "description": "",
            "description_tooltip": null,
            "layout": "IPY_MODEL_04b58a7a3ace4b5fbf5ee84f8fdb6772",
            "placeholder": "​",
            "style": "IPY_MODEL_b3ef90e924d04110b83658b0caf11e04",
            "value": " 1/1 [05:52&lt;00:00, 352.55s/ url]"
          }
        },
        "74274e1100c444bfae79c241d1e84026": {
          "model_module": "@jupyter-widgets/controls",
          "model_name": "FloatProgressModel",
          "state": {
            "_dom_classes": [],
            "_model_module": "@jupyter-widgets/controls",
            "_model_module_version": "1.5.0",
            "_model_name": "FloatProgressModel",
            "_view_count": null,
            "_view_module": "@jupyter-widgets/controls",
            "_view_module_version": "1.5.0",
            "_view_name": "ProgressView",
            "bar_style": "info",
            "description": "",
            "description_tooltip": null,
            "layout": "IPY_MODEL_d9bc123ee76149c59c956fc7719c2da7",
            "max": 1,
            "min": 0,
            "orientation": "horizontal",
            "style": "IPY_MODEL_00d36279fda4446c94181db1a345bc52",
            "value": 1
          }
        },
        "74a06a42ecb84ba78a2e5666c68da3b7": {
          "model_module": "@jupyter-widgets/controls",
          "model_name": "DescriptionStyleModel",
          "state": {
            "_model_module": "@jupyter-widgets/controls",
            "_model_module_version": "1.5.0",
            "_model_name": "DescriptionStyleModel",
            "_view_count": null,
            "_view_module": "@jupyter-widgets/base",
            "_view_module_version": "1.2.0",
            "_view_name": "StyleView",
            "description_width": ""
          }
        },
        "74e7f9c5a9e34a4b8d625253d73863c8": {
          "model_module": "@jupyter-widgets/controls",
          "model_name": "HTMLModel",
          "state": {
            "_dom_classes": [],
            "_model_module": "@jupyter-widgets/controls",
            "_model_module_version": "1.5.0",
            "_model_name": "HTMLModel",
            "_view_count": null,
            "_view_module": "@jupyter-widgets/controls",
            "_view_module_version": "1.5.0",
            "_view_name": "HTMLView",
            "description": "",
            "description_tooltip": null,
            "layout": "IPY_MODEL_db771fcdeea84157a04f762faa5225f7",
            "placeholder": "​",
            "style": "IPY_MODEL_908180abf6204a0091f73bdee751eadf",
            "value": " 25250/0 [00:53&lt;00:00, 522.43 examples/s]"
          }
        },
        "86729ca4349d49d1a5f309998384ae63": {
          "model_module": "@jupyter-widgets/controls",
          "model_name": "FloatProgressModel",
          "state": {
            "_dom_classes": [],
            "_model_module": "@jupyter-widgets/controls",
            "_model_module_version": "1.5.0",
            "_model_name": "FloatProgressModel",
            "_view_count": null,
            "_view_module": "@jupyter-widgets/controls",
            "_view_module_version": "1.5.0",
            "_view_name": "ProgressView",
            "bar_style": "success",
            "description": "Dl Size...: 100%",
            "description_tooltip": null,
            "layout": "IPY_MODEL_faaf9ca062c44009ad966c4edeb8347a",
            "max": 1,
            "min": 0,
            "orientation": "horizontal",
            "style": "IPY_MODEL_fbc823a5dbdf41dabe586fe9fb3f6e62",
            "value": 1
          }
        },
        "88a01b2184f749dcb355fdab16ec8434": {
          "model_module": "@jupyter-widgets/base",
          "model_name": "LayoutModel",
          "state": {
            "_model_module": "@jupyter-widgets/base",
            "_model_module_version": "1.2.0",
            "_model_name": "LayoutModel",
            "_view_count": null,
            "_view_module": "@jupyter-widgets/base",
            "_view_module_version": "1.2.0",
            "_view_name": "LayoutView",
            "align_content": null,
            "align_items": null,
            "align_self": null,
            "border": null,
            "bottom": null,
            "display": null,
            "flex": null,
            "flex_flow": null,
            "grid_area": null,
            "grid_auto_columns": null,
            "grid_auto_flow": null,
            "grid_auto_rows": null,
            "grid_column": null,
            "grid_gap": null,
            "grid_row": null,
            "grid_template_areas": null,
            "grid_template_columns": null,
            "grid_template_rows": null,
            "height": null,
            "justify_content": null,
            "justify_items": null,
            "left": null,
            "margin": null,
            "max_height": null,
            "max_width": null,
            "min_height": null,
            "min_width": null,
            "object_fit": null,
            "object_position": null,
            "order": null,
            "overflow": null,
            "overflow_x": null,
            "overflow_y": null,
            "padding": null,
            "right": null,
            "top": null,
            "visibility": null,
            "width": null
          }
        },
        "88c42821d4f94dc2a1eaa9d080ad20fb": {
          "model_module": "@jupyter-widgets/controls",
          "model_name": "FloatProgressModel",
          "state": {
            "_dom_classes": [],
            "_model_module": "@jupyter-widgets/controls",
            "_model_module_version": "1.5.0",
            "_model_name": "FloatProgressModel",
            "_view_count": null,
            "_view_module": "@jupyter-widgets/controls",
            "_view_module_version": "1.5.0",
            "_view_name": "ProgressView",
            "bar_style": "info",
            "description": "",
            "description_tooltip": null,
            "layout": "IPY_MODEL_88a01b2184f749dcb355fdab16ec8434",
            "max": 1,
            "min": 0,
            "orientation": "horizontal",
            "style": "IPY_MODEL_91e9e8349117414890a4210348e3ae75",
            "value": 1
          }
        },
        "8f623906818f4540b870d6ec81652755": {
          "model_module": "@jupyter-widgets/controls",
          "model_name": "HTMLModel",
          "state": {
            "_dom_classes": [],
            "_model_module": "@jupyter-widgets/controls",
            "_model_module_version": "1.5.0",
            "_model_name": "HTMLModel",
            "_view_count": null,
            "_view_module": "@jupyter-widgets/controls",
            "_view_module_version": "1.5.0",
            "_view_name": "HTMLView",
            "description": "",
            "description_tooltip": null,
            "layout": "IPY_MODEL_9d588171f0f646e8991d76599de8bff8",
            "placeholder": "​",
            "style": "IPY_MODEL_c797dd3309414e5c90a3690ba451cf4d",
            "value": " 75750/0 [01:53&lt;00:00, 636.16 examples/s]"
          }
        },
        "908180abf6204a0091f73bdee751eadf": {
          "model_module": "@jupyter-widgets/controls",
          "model_name": "DescriptionStyleModel",
          "state": {
            "_model_module": "@jupyter-widgets/controls",
            "_model_module_version": "1.5.0",
            "_model_name": "DescriptionStyleModel",
            "_view_count": null,
            "_view_module": "@jupyter-widgets/base",
            "_view_module_version": "1.2.0",
            "_view_name": "StyleView",
            "description_width": ""
          }
        },
        "91e9e8349117414890a4210348e3ae75": {
          "model_module": "@jupyter-widgets/controls",
          "model_name": "ProgressStyleModel",
          "state": {
            "_model_module": "@jupyter-widgets/controls",
            "_model_module_version": "1.5.0",
            "_model_name": "ProgressStyleModel",
            "_view_count": null,
            "_view_module": "@jupyter-widgets/base",
            "_view_module_version": "1.2.0",
            "_view_name": "StyleView",
            "bar_color": null,
            "description_width": "initial"
          }
        },
        "9221727421244b6bad80b55222d5f01f": {
          "model_module": "@jupyter-widgets/base",
          "model_name": "LayoutModel",
          "state": {
            "_model_module": "@jupyter-widgets/base",
            "_model_module_version": "1.2.0",
            "_model_name": "LayoutModel",
            "_view_count": null,
            "_view_module": "@jupyter-widgets/base",
            "_view_module_version": "1.2.0",
            "_view_name": "LayoutView",
            "align_content": null,
            "align_items": null,
            "align_self": null,
            "border": null,
            "bottom": null,
            "display": null,
            "flex": null,
            "flex_flow": null,
            "grid_area": null,
            "grid_auto_columns": null,
            "grid_auto_flow": null,
            "grid_auto_rows": null,
            "grid_column": null,
            "grid_gap": null,
            "grid_row": null,
            "grid_template_areas": null,
            "grid_template_columns": null,
            "grid_template_rows": null,
            "height": null,
            "justify_content": null,
            "justify_items": null,
            "left": null,
            "margin": null,
            "max_height": null,
            "max_width": null,
            "min_height": null,
            "min_width": null,
            "object_fit": null,
            "object_position": null,
            "order": null,
            "overflow": null,
            "overflow_x": null,
            "overflow_y": null,
            "padding": null,
            "right": null,
            "top": null,
            "visibility": null,
            "width": null
          }
        },
        "98c0af61d44c4c92aec0b795a009c3c9": {
          "model_module": "@jupyter-widgets/base",
          "model_name": "LayoutModel",
          "state": {
            "_model_module": "@jupyter-widgets/base",
            "_model_module_version": "1.2.0",
            "_model_name": "LayoutModel",
            "_view_count": null,
            "_view_module": "@jupyter-widgets/base",
            "_view_module_version": "1.2.0",
            "_view_name": "LayoutView",
            "align_content": null,
            "align_items": null,
            "align_self": null,
            "border": null,
            "bottom": null,
            "display": null,
            "flex": null,
            "flex_flow": null,
            "grid_area": null,
            "grid_auto_columns": null,
            "grid_auto_flow": null,
            "grid_auto_rows": null,
            "grid_column": null,
            "grid_gap": null,
            "grid_row": null,
            "grid_template_areas": null,
            "grid_template_columns": null,
            "grid_template_rows": null,
            "height": null,
            "justify_content": null,
            "justify_items": null,
            "left": null,
            "margin": null,
            "max_height": null,
            "max_width": null,
            "min_height": null,
            "min_width": null,
            "object_fit": null,
            "object_position": null,
            "order": null,
            "overflow": null,
            "overflow_x": null,
            "overflow_y": null,
            "padding": null,
            "right": null,
            "top": null,
            "visibility": null,
            "width": null
          }
        },
        "9c41640b8f0b47deac00a8abd60fcef6": {
          "model_module": "@jupyter-widgets/controls",
          "model_name": "ProgressStyleModel",
          "state": {
            "_model_module": "@jupyter-widgets/controls",
            "_model_module_version": "1.5.0",
            "_model_name": "ProgressStyleModel",
            "_view_count": null,
            "_view_module": "@jupyter-widgets/base",
            "_view_module_version": "1.2.0",
            "_view_name": "StyleView",
            "bar_color": null,
            "description_width": "initial"
          }
        },
        "9d588171f0f646e8991d76599de8bff8": {
          "model_module": "@jupyter-widgets/base",
          "model_name": "LayoutModel",
          "state": {
            "_model_module": "@jupyter-widgets/base",
            "_model_module_version": "1.2.0",
            "_model_name": "LayoutModel",
            "_view_count": null,
            "_view_module": "@jupyter-widgets/base",
            "_view_module_version": "1.2.0",
            "_view_name": "LayoutView",
            "align_content": null,
            "align_items": null,
            "align_self": null,
            "border": null,
            "bottom": null,
            "display": null,
            "flex": null,
            "flex_flow": null,
            "grid_area": null,
            "grid_auto_columns": null,
            "grid_auto_flow": null,
            "grid_auto_rows": null,
            "grid_column": null,
            "grid_gap": null,
            "grid_row": null,
            "grid_template_areas": null,
            "grid_template_columns": null,
            "grid_template_rows": null,
            "height": null,
            "justify_content": null,
            "justify_items": null,
            "left": null,
            "margin": null,
            "max_height": null,
            "max_width": null,
            "min_height": null,
            "min_width": null,
            "object_fit": null,
            "object_position": null,
            "order": null,
            "overflow": null,
            "overflow_x": null,
            "overflow_y": null,
            "padding": null,
            "right": null,
            "top": null,
            "visibility": null,
            "width": null
          }
        },
        "9eee33b18a384c9bb9f7c8e143869f23": {
          "model_module": "@jupyter-widgets/controls",
          "model_name": "HBoxModel",
          "state": {
            "_dom_classes": [],
            "_model_module": "@jupyter-widgets/controls",
            "_model_module_version": "1.5.0",
            "_model_name": "HBoxModel",
            "_view_count": null,
            "_view_module": "@jupyter-widgets/controls",
            "_view_module_version": "1.5.0",
            "_view_name": "HBoxView",
            "box_style": "",
            "children": [
              "IPY_MODEL_88c42821d4f94dc2a1eaa9d080ad20fb",
              "IPY_MODEL_74e7f9c5a9e34a4b8d625253d73863c8"
            ],
            "layout": "IPY_MODEL_be226b80e59f444584dc034c42b091a1"
          }
        },
        "9fcb650252cf496ca1441b4608c804b0": {
          "model_module": "@jupyter-widgets/controls",
          "model_name": "HTMLModel",
          "state": {
            "_dom_classes": [],
            "_model_module": "@jupyter-widgets/controls",
            "_model_module_version": "1.5.0",
            "_model_name": "HTMLModel",
            "_view_count": null,
            "_view_module": "@jupyter-widgets/controls",
            "_view_module_version": "1.5.0",
            "_view_name": "HTMLView",
            "description": "",
            "description_tooltip": null,
            "layout": "IPY_MODEL_f69e746c1c6048b9b39ce9fa871491ef",
            "placeholder": "​",
            "style": "IPY_MODEL_f1fd17e7ca7d47bcbd54532f547106a2",
            "value": " 1/1 [05:52&lt;00:00, 352.45s/ file]"
          }
        },
        "aa2cb2934eca46c3b0d2f0806fdf5481": {
          "model_module": "@jupyter-widgets/controls",
          "model_name": "DescriptionStyleModel",
          "state": {
            "_model_module": "@jupyter-widgets/controls",
            "_model_module_version": "1.5.0",
            "_model_name": "DescriptionStyleModel",
            "_view_count": null,
            "_view_module": "@jupyter-widgets/base",
            "_view_module_version": "1.2.0",
            "_view_name": "StyleView",
            "description_width": ""
          }
        },
        "afa84b13f572474d836e6e16ef03f14f": {
          "model_module": "@jupyter-widgets/controls",
          "model_name": "HBoxModel",
          "state": {
            "_dom_classes": [],
            "_model_module": "@jupyter-widgets/controls",
            "_model_module_version": "1.5.0",
            "_model_name": "HBoxModel",
            "_view_count": null,
            "_view_module": "@jupyter-widgets/controls",
            "_view_module_version": "1.5.0",
            "_view_name": "HBoxView",
            "box_style": "",
            "children": [
              "IPY_MODEL_74274e1100c444bfae79c241d1e84026",
              "IPY_MODEL_8f623906818f4540b870d6ec81652755"
            ],
            "layout": "IPY_MODEL_f405089a17a7413fa467bb2fbcc051fc"
          }
        },
        "b3ef90e924d04110b83658b0caf11e04": {
          "model_module": "@jupyter-widgets/controls",
          "model_name": "DescriptionStyleModel",
          "state": {
            "_model_module": "@jupyter-widgets/controls",
            "_model_module_version": "1.5.0",
            "_model_name": "DescriptionStyleModel",
            "_view_count": null,
            "_view_module": "@jupyter-widgets/base",
            "_view_module_version": "1.2.0",
            "_view_name": "StyleView",
            "description_width": ""
          }
        },
        "b43adb7552774650a0fb52459e356b4f": {
          "model_module": "@jupyter-widgets/controls",
          "model_name": "HBoxModel",
          "state": {
            "_dom_classes": [],
            "_model_module": "@jupyter-widgets/controls",
            "_model_module_version": "1.5.0",
            "_model_name": "HBoxModel",
            "_view_count": null,
            "_view_module": "@jupyter-widgets/controls",
            "_view_module_version": "1.5.0",
            "_view_name": "HBoxView",
            "box_style": "",
            "children": [
              "IPY_MODEL_c588da70d3324e64a189ed54ee528ed0",
              "IPY_MODEL_6b659db66e384424bb520f7560280351"
            ],
            "layout": "IPY_MODEL_1a9175aa441649789eb826a91bda6387"
          }
        },
        "be226b80e59f444584dc034c42b091a1": {
          "model_module": "@jupyter-widgets/base",
          "model_name": "LayoutModel",
          "state": {
            "_model_module": "@jupyter-widgets/base",
            "_model_module_version": "1.2.0",
            "_model_name": "LayoutModel",
            "_view_count": null,
            "_view_module": "@jupyter-widgets/base",
            "_view_module_version": "1.2.0",
            "_view_name": "LayoutView",
            "align_content": null,
            "align_items": null,
            "align_self": null,
            "border": null,
            "bottom": null,
            "display": null,
            "flex": null,
            "flex_flow": null,
            "grid_area": null,
            "grid_auto_columns": null,
            "grid_auto_flow": null,
            "grid_auto_rows": null,
            "grid_column": null,
            "grid_gap": null,
            "grid_row": null,
            "grid_template_areas": null,
            "grid_template_columns": null,
            "grid_template_rows": null,
            "height": null,
            "justify_content": null,
            "justify_items": null,
            "left": null,
            "margin": null,
            "max_height": null,
            "max_width": null,
            "min_height": null,
            "min_width": null,
            "object_fit": null,
            "object_position": null,
            "order": null,
            "overflow": null,
            "overflow_x": null,
            "overflow_y": null,
            "padding": null,
            "right": null,
            "top": null,
            "visibility": null,
            "width": null
          }
        },
        "be6600013bcb42ef88288fd5c07d929d": {
          "model_module": "@jupyter-widgets/base",
          "model_name": "LayoutModel",
          "state": {
            "_model_module": "@jupyter-widgets/base",
            "_model_module_version": "1.2.0",
            "_model_name": "LayoutModel",
            "_view_count": null,
            "_view_module": "@jupyter-widgets/base",
            "_view_module_version": "1.2.0",
            "_view_name": "LayoutView",
            "align_content": null,
            "align_items": null,
            "align_self": null,
            "border": null,
            "bottom": null,
            "display": null,
            "flex": null,
            "flex_flow": null,
            "grid_area": null,
            "grid_auto_columns": null,
            "grid_auto_flow": null,
            "grid_auto_rows": null,
            "grid_column": null,
            "grid_gap": null,
            "grid_row": null,
            "grid_template_areas": null,
            "grid_template_columns": null,
            "grid_template_rows": null,
            "height": null,
            "justify_content": null,
            "justify_items": null,
            "left": null,
            "margin": null,
            "max_height": null,
            "max_width": null,
            "min_height": null,
            "min_width": null,
            "object_fit": null,
            "object_position": null,
            "order": null,
            "overflow": null,
            "overflow_x": null,
            "overflow_y": null,
            "padding": null,
            "right": null,
            "top": null,
            "visibility": null,
            "width": null
          }
        },
        "c080b77ff832415bba1d71ccd45c968a": {
          "model_module": "@jupyter-widgets/controls",
          "model_name": "HTMLModel",
          "state": {
            "_dom_classes": [],
            "_model_module": "@jupyter-widgets/controls",
            "_model_module_version": "1.5.0",
            "_model_name": "HTMLModel",
            "_view_count": null,
            "_view_module": "@jupyter-widgets/controls",
            "_view_module_version": "1.5.0",
            "_view_name": "HTMLView",
            "description": "",
            "description_tooltip": null,
            "layout": "IPY_MODEL_ed9fa4ff250d4dc59724e3d03b3e9b7e",
            "placeholder": "​",
            "style": "IPY_MODEL_aa2cb2934eca46c3b0d2f0806fdf5481",
            "value": " 75684/75750 [01:40&lt;00:00, 768.14 examples/s]"
          }
        },
        "c588da70d3324e64a189ed54ee528ed0": {
          "model_module": "@jupyter-widgets/controls",
          "model_name": "FloatProgressModel",
          "state": {
            "_dom_classes": [],
            "_model_module": "@jupyter-widgets/controls",
            "_model_module_version": "1.5.0",
            "_model_name": "FloatProgressModel",
            "_view_count": null,
            "_view_module": "@jupyter-widgets/controls",
            "_view_module_version": "1.5.0",
            "_view_name": "ProgressView",
            "bar_style": "danger",
            "description": " 99%",
            "description_tooltip": null,
            "layout": "IPY_MODEL_28144711ea794b1bb13879375734a0c8",
            "max": 25250,
            "min": 0,
            "orientation": "horizontal",
            "style": "IPY_MODEL_d1800d2ffddc4e748c06e81caa9b3a0c",
            "value": 25002
          }
        },
        "c61fe87da85b4ab1aac53f7b4b335f19": {
          "model_module": "@jupyter-widgets/controls",
          "model_name": "HTMLModel",
          "state": {
            "_dom_classes": [],
            "_model_module": "@jupyter-widgets/controls",
            "_model_module_version": "1.5.0",
            "_model_name": "HTMLModel",
            "_view_count": null,
            "_view_module": "@jupyter-widgets/controls",
            "_view_module_version": "1.5.0",
            "_view_name": "HTMLView",
            "description": "",
            "description_tooltip": null,
            "layout": "IPY_MODEL_98c0af61d44c4c92aec0b795a009c3c9",
            "placeholder": "​",
            "style": "IPY_MODEL_d66fba4ddbab41f19831a11f80f3bb03",
            "value": " 4764/4764 [05:52&lt;00:00, 13.51 MiB/s]"
          }
        },
        "c797dd3309414e5c90a3690ba451cf4d": {
          "model_module": "@jupyter-widgets/controls",
          "model_name": "DescriptionStyleModel",
          "state": {
            "_model_module": "@jupyter-widgets/controls",
            "_model_module_version": "1.5.0",
            "_model_name": "DescriptionStyleModel",
            "_view_count": null,
            "_view_module": "@jupyter-widgets/base",
            "_view_module_version": "1.2.0",
            "_view_name": "StyleView",
            "description_width": ""
          }
        },
        "ca1e944645204fd2880159567699b501": {
          "model_module": "@jupyter-widgets/controls",
          "model_name": "ProgressStyleModel",
          "state": {
            "_model_module": "@jupyter-widgets/controls",
            "_model_module_version": "1.5.0",
            "_model_name": "ProgressStyleModel",
            "_view_count": null,
            "_view_module": "@jupyter-widgets/base",
            "_view_module_version": "1.2.0",
            "_view_name": "StyleView",
            "bar_color": null,
            "description_width": "initial"
          }
        },
        "d1800d2ffddc4e748c06e81caa9b3a0c": {
          "model_module": "@jupyter-widgets/controls",
          "model_name": "ProgressStyleModel",
          "state": {
            "_model_module": "@jupyter-widgets/controls",
            "_model_module_version": "1.5.0",
            "_model_name": "ProgressStyleModel",
            "_view_count": null,
            "_view_module": "@jupyter-widgets/base",
            "_view_module_version": "1.2.0",
            "_view_name": "StyleView",
            "bar_color": null,
            "description_width": "initial"
          }
        },
        "d6236528af514392af569cc2617a693e": {
          "model_module": "@jupyter-widgets/controls",
          "model_name": "HBoxModel",
          "state": {
            "_dom_classes": [],
            "_model_module": "@jupyter-widgets/controls",
            "_model_module_version": "1.5.0",
            "_model_name": "HBoxModel",
            "_view_count": null,
            "_view_module": "@jupyter-widgets/controls",
            "_view_module_version": "1.5.0",
            "_view_name": "HBoxView",
            "box_style": "",
            "children": [
              "IPY_MODEL_ff6961650a0b41dc96bb064dae506b4b",
              "IPY_MODEL_6e8eaa54ba8b4e208baa4d570c3b9218"
            ],
            "layout": "IPY_MODEL_6398c1dafc0841efad377e6076fb6d84"
          }
        },
        "d66fba4ddbab41f19831a11f80f3bb03": {
          "model_module": "@jupyter-widgets/controls",
          "model_name": "DescriptionStyleModel",
          "state": {
            "_model_module": "@jupyter-widgets/controls",
            "_model_module_version": "1.5.0",
            "_model_name": "DescriptionStyleModel",
            "_view_count": null,
            "_view_module": "@jupyter-widgets/base",
            "_view_module_version": "1.2.0",
            "_view_name": "StyleView",
            "description_width": ""
          }
        },
        "d9bc123ee76149c59c956fc7719c2da7": {
          "model_module": "@jupyter-widgets/base",
          "model_name": "LayoutModel",
          "state": {
            "_model_module": "@jupyter-widgets/base",
            "_model_module_version": "1.2.0",
            "_model_name": "LayoutModel",
            "_view_count": null,
            "_view_module": "@jupyter-widgets/base",
            "_view_module_version": "1.2.0",
            "_view_name": "LayoutView",
            "align_content": null,
            "align_items": null,
            "align_self": null,
            "border": null,
            "bottom": null,
            "display": null,
            "flex": null,
            "flex_flow": null,
            "grid_area": null,
            "grid_auto_columns": null,
            "grid_auto_flow": null,
            "grid_auto_rows": null,
            "grid_column": null,
            "grid_gap": null,
            "grid_row": null,
            "grid_template_areas": null,
            "grid_template_columns": null,
            "grid_template_rows": null,
            "height": null,
            "justify_content": null,
            "justify_items": null,
            "left": null,
            "margin": null,
            "max_height": null,
            "max_width": null,
            "min_height": null,
            "min_width": null,
            "object_fit": null,
            "object_position": null,
            "order": null,
            "overflow": null,
            "overflow_x": null,
            "overflow_y": null,
            "padding": null,
            "right": null,
            "top": null,
            "visibility": null,
            "width": null
          }
        },
        "db771fcdeea84157a04f762faa5225f7": {
          "model_module": "@jupyter-widgets/base",
          "model_name": "LayoutModel",
          "state": {
            "_model_module": "@jupyter-widgets/base",
            "_model_module_version": "1.2.0",
            "_model_name": "LayoutModel",
            "_view_count": null,
            "_view_module": "@jupyter-widgets/base",
            "_view_module_version": "1.2.0",
            "_view_name": "LayoutView",
            "align_content": null,
            "align_items": null,
            "align_self": null,
            "border": null,
            "bottom": null,
            "display": null,
            "flex": null,
            "flex_flow": null,
            "grid_area": null,
            "grid_auto_columns": null,
            "grid_auto_flow": null,
            "grid_auto_rows": null,
            "grid_column": null,
            "grid_gap": null,
            "grid_row": null,
            "grid_template_areas": null,
            "grid_template_columns": null,
            "grid_template_rows": null,
            "height": null,
            "justify_content": null,
            "justify_items": null,
            "left": null,
            "margin": null,
            "max_height": null,
            "max_width": null,
            "min_height": null,
            "min_width": null,
            "object_fit": null,
            "object_position": null,
            "order": null,
            "overflow": null,
            "overflow_x": null,
            "overflow_y": null,
            "padding": null,
            "right": null,
            "top": null,
            "visibility": null,
            "width": null
          }
        },
        "e149bee81e92411d8a737b81cf52847d": {
          "model_module": "@jupyter-widgets/controls",
          "model_name": "HBoxModel",
          "state": {
            "_dom_classes": [],
            "_model_module": "@jupyter-widgets/controls",
            "_model_module_version": "1.5.0",
            "_model_name": "HBoxModel",
            "_view_count": null,
            "_view_module": "@jupyter-widgets/controls",
            "_view_module_version": "1.5.0",
            "_view_name": "HBoxView",
            "box_style": "",
            "children": [
              "IPY_MODEL_f2fe3d1e4daa493e83b3d79aa12f4ab9",
              "IPY_MODEL_c080b77ff832415bba1d71ccd45c968a"
            ],
            "layout": "IPY_MODEL_3034c6ae742a47fa8d8be6a5438f656f"
          }
        },
        "ed9fa4ff250d4dc59724e3d03b3e9b7e": {
          "model_module": "@jupyter-widgets/base",
          "model_name": "LayoutModel",
          "state": {
            "_model_module": "@jupyter-widgets/base",
            "_model_module_version": "1.2.0",
            "_model_name": "LayoutModel",
            "_view_count": null,
            "_view_module": "@jupyter-widgets/base",
            "_view_module_version": "1.2.0",
            "_view_name": "LayoutView",
            "align_content": null,
            "align_items": null,
            "align_self": null,
            "border": null,
            "bottom": null,
            "display": null,
            "flex": null,
            "flex_flow": null,
            "grid_area": null,
            "grid_auto_columns": null,
            "grid_auto_flow": null,
            "grid_auto_rows": null,
            "grid_column": null,
            "grid_gap": null,
            "grid_row": null,
            "grid_template_areas": null,
            "grid_template_columns": null,
            "grid_template_rows": null,
            "height": null,
            "justify_content": null,
            "justify_items": null,
            "left": null,
            "margin": null,
            "max_height": null,
            "max_width": null,
            "min_height": null,
            "min_width": null,
            "object_fit": null,
            "object_position": null,
            "order": null,
            "overflow": null,
            "overflow_x": null,
            "overflow_y": null,
            "padding": null,
            "right": null,
            "top": null,
            "visibility": null,
            "width": null
          }
        },
        "f1fd17e7ca7d47bcbd54532f547106a2": {
          "model_module": "@jupyter-widgets/controls",
          "model_name": "DescriptionStyleModel",
          "state": {
            "_model_module": "@jupyter-widgets/controls",
            "_model_module_version": "1.5.0",
            "_model_name": "DescriptionStyleModel",
            "_view_count": null,
            "_view_module": "@jupyter-widgets/base",
            "_view_module_version": "1.2.0",
            "_view_name": "StyleView",
            "description_width": ""
          }
        },
        "f2fe3d1e4daa493e83b3d79aa12f4ab9": {
          "model_module": "@jupyter-widgets/controls",
          "model_name": "FloatProgressModel",
          "state": {
            "_dom_classes": [],
            "_model_module": "@jupyter-widgets/controls",
            "_model_module_version": "1.5.0",
            "_model_name": "FloatProgressModel",
            "_view_count": null,
            "_view_module": "@jupyter-widgets/controls",
            "_view_module_version": "1.5.0",
            "_view_name": "ProgressView",
            "bar_style": "danger",
            "description": "100%",
            "description_tooltip": null,
            "layout": "IPY_MODEL_4a0bcfa0c4f844bcadf41cdccc27f6d1",
            "max": 75750,
            "min": 0,
            "orientation": "horizontal",
            "style": "IPY_MODEL_282ffe2459e94fe99bfab43d546336ec",
            "value": 75684
          }
        },
        "f405089a17a7413fa467bb2fbcc051fc": {
          "model_module": "@jupyter-widgets/base",
          "model_name": "LayoutModel",
          "state": {
            "_model_module": "@jupyter-widgets/base",
            "_model_module_version": "1.2.0",
            "_model_name": "LayoutModel",
            "_view_count": null,
            "_view_module": "@jupyter-widgets/base",
            "_view_module_version": "1.2.0",
            "_view_name": "LayoutView",
            "align_content": null,
            "align_items": null,
            "align_self": null,
            "border": null,
            "bottom": null,
            "display": null,
            "flex": null,
            "flex_flow": null,
            "grid_area": null,
            "grid_auto_columns": null,
            "grid_auto_flow": null,
            "grid_auto_rows": null,
            "grid_column": null,
            "grid_gap": null,
            "grid_row": null,
            "grid_template_areas": null,
            "grid_template_columns": null,
            "grid_template_rows": null,
            "height": null,
            "justify_content": null,
            "justify_items": null,
            "left": null,
            "margin": null,
            "max_height": null,
            "max_width": null,
            "min_height": null,
            "min_width": null,
            "object_fit": null,
            "object_position": null,
            "order": null,
            "overflow": null,
            "overflow_x": null,
            "overflow_y": null,
            "padding": null,
            "right": null,
            "top": null,
            "visibility": null,
            "width": null
          }
        },
        "f418fdb7441d4914bca603a4da56b484": {
          "model_module": "@jupyter-widgets/controls",
          "model_name": "HBoxModel",
          "state": {
            "_dom_classes": [],
            "_model_module": "@jupyter-widgets/controls",
            "_model_module_version": "1.5.0",
            "_model_name": "HBoxModel",
            "_view_count": null,
            "_view_module": "@jupyter-widgets/controls",
            "_view_module_version": "1.5.0",
            "_view_name": "HBoxView",
            "box_style": "",
            "children": [
              "IPY_MODEL_86729ca4349d49d1a5f309998384ae63",
              "IPY_MODEL_c61fe87da85b4ab1aac53f7b4b335f19"
            ],
            "layout": "IPY_MODEL_62c03ae9b20042899f6c82aa5f21cf9d"
          }
        },
        "f69e746c1c6048b9b39ce9fa871491ef": {
          "model_module": "@jupyter-widgets/base",
          "model_name": "LayoutModel",
          "state": {
            "_model_module": "@jupyter-widgets/base",
            "_model_module_version": "1.2.0",
            "_model_name": "LayoutModel",
            "_view_count": null,
            "_view_module": "@jupyter-widgets/base",
            "_view_module_version": "1.2.0",
            "_view_name": "LayoutView",
            "align_content": null,
            "align_items": null,
            "align_self": null,
            "border": null,
            "bottom": null,
            "display": null,
            "flex": null,
            "flex_flow": null,
            "grid_area": null,
            "grid_auto_columns": null,
            "grid_auto_flow": null,
            "grid_auto_rows": null,
            "grid_column": null,
            "grid_gap": null,
            "grid_row": null,
            "grid_template_areas": null,
            "grid_template_columns": null,
            "grid_template_rows": null,
            "height": null,
            "justify_content": null,
            "justify_items": null,
            "left": null,
            "margin": null,
            "max_height": null,
            "max_width": null,
            "min_height": null,
            "min_width": null,
            "object_fit": null,
            "object_position": null,
            "order": null,
            "overflow": null,
            "overflow_x": null,
            "overflow_y": null,
            "padding": null,
            "right": null,
            "top": null,
            "visibility": null,
            "width": null
          }
        },
        "faaf9ca062c44009ad966c4edeb8347a": {
          "model_module": "@jupyter-widgets/base",
          "model_name": "LayoutModel",
          "state": {
            "_model_module": "@jupyter-widgets/base",
            "_model_module_version": "1.2.0",
            "_model_name": "LayoutModel",
            "_view_count": null,
            "_view_module": "@jupyter-widgets/base",
            "_view_module_version": "1.2.0",
            "_view_name": "LayoutView",
            "align_content": null,
            "align_items": null,
            "align_self": null,
            "border": null,
            "bottom": null,
            "display": null,
            "flex": null,
            "flex_flow": null,
            "grid_area": null,
            "grid_auto_columns": null,
            "grid_auto_flow": null,
            "grid_auto_rows": null,
            "grid_column": null,
            "grid_gap": null,
            "grid_row": null,
            "grid_template_areas": null,
            "grid_template_columns": null,
            "grid_template_rows": null,
            "height": null,
            "justify_content": null,
            "justify_items": null,
            "left": null,
            "margin": null,
            "max_height": null,
            "max_width": null,
            "min_height": null,
            "min_width": null,
            "object_fit": null,
            "object_position": null,
            "order": null,
            "overflow": null,
            "overflow_x": null,
            "overflow_y": null,
            "padding": null,
            "right": null,
            "top": null,
            "visibility": null,
            "width": null
          }
        },
        "fbc823a5dbdf41dabe586fe9fb3f6e62": {
          "model_module": "@jupyter-widgets/controls",
          "model_name": "ProgressStyleModel",
          "state": {
            "_model_module": "@jupyter-widgets/controls",
            "_model_module_version": "1.5.0",
            "_model_name": "ProgressStyleModel",
            "_view_count": null,
            "_view_module": "@jupyter-widgets/base",
            "_view_module_version": "1.2.0",
            "_view_name": "StyleView",
            "bar_color": null,
            "description_width": "initial"
          }
        },
        "ff6961650a0b41dc96bb064dae506b4b": {
          "model_module": "@jupyter-widgets/controls",
          "model_name": "FloatProgressModel",
          "state": {
            "_dom_classes": [],
            "_model_module": "@jupyter-widgets/controls",
            "_model_module_version": "1.5.0",
            "_model_name": "FloatProgressModel",
            "_view_count": null,
            "_view_module": "@jupyter-widgets/controls",
            "_view_module_version": "1.5.0",
            "_view_name": "ProgressView",
            "bar_style": "success",
            "description": "Dl Completed...: 100%",
            "description_tooltip": null,
            "layout": "IPY_MODEL_38e90f027340429a850fc7a7e63ed7f8",
            "max": 1,
            "min": 0,
            "orientation": "horizontal",
            "style": "IPY_MODEL_9c41640b8f0b47deac00a8abd60fcef6",
            "value": 1
          }
        }
      }
    }
  },
  "nbformat": 4,
  "nbformat_minor": 0
}
